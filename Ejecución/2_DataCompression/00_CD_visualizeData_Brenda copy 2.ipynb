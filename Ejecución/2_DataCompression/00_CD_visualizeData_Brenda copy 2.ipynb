{
 "cells": [
  {
   "cell_type": "code",
   "execution_count": 12,
   "metadata": {},
   "outputs": [],
   "source": [
    "import os\n",
    "from zipfile import ZipFile\n",
    "import pandas as pd\n",
    "import json"
   ]
  },
  {
   "cell_type": "code",
   "execution_count": 13,
   "metadata": {},
   "outputs": [],
   "source": [
    "def extract_json_data(filename = \"RAW_META_LUXURY_BEAUTY_20230111.json.zip\"):\n",
    "    separador = os.path.sep\n",
    "    dir_actual = os.getcwd()\n",
    "    execution_folder_dir = separador.join(dir_actual.split(separador)[:-1])\n",
    "    folder_json = os.path.join(execution_folder_dir, \"1_Datos\", filename)\n",
    "\n",
    "    path_to_extract = os.path.join(execution_folder_dir, \"1_Datos\")\n",
    "    if not os.path.exists(folder_json[:-4]):\n",
    "        print(\"hehehe\")\n",
    "        with ZipFile(folder_json, 'r') as f:\n",
    "            f.extractall(path_to_extract)\n",
    "    folder_json = folder_json[:-4]\n",
    "    file_json = os.listdir(folder_json)[0]\n",
    "    return separador.join([folder_json, file_json])\n"
   ]
  },
  {
   "cell_type": "code",
   "execution_count": 3,
   "metadata": {},
   "outputs": [
    {
     "name": "stdout",
     "output_type": "stream",
     "text": [
      "       a  b\n",
      "0   True  2\n",
      "1  False  3\n"
     ]
    }
   ],
   "source": [
    "import pandas as pd\n",
    "a = pd.DataFrame.from_records([{\"a\": True, \"b\": 2},{\"a\": False, \"b\": 3}])\n",
    "print(a.head())"
   ]
  },
  {
   "cell_type": "code",
   "execution_count": 14,
   "metadata": {},
   "outputs": [],
   "source": [
    "def open_json_file(file_json):\n",
    "    data = []\n",
    "    with open(file_json, \"r\") as f:\n",
    "        for line in f.readlines():\n",
    "           data.append(json.loads(line))\n",
    "\n",
    "    #f = open(file_json, \"r\")\n",
    "    #for line in f.readlines():\n",
    "    #    data.append(json.loads(line))\n",
    "    #f.close()\n",
    "\n",
    "    df = pd.DataFrame.from_records(data)\n",
    "    return df\n",
    "\n",
    "def get_data_frame(raw_all_json, raw_meta_json):\n",
    "    raw_all_df = open_json_file(raw_all_json)\n",
    "    raw_meta_df = open_json_file(raw_meta_json)\n",
    "\n",
    "    return raw_all_df, raw_meta_df"
   ]
  },
  {
   "cell_type": "code",
   "execution_count": 15,
   "metadata": {},
   "outputs": [],
   "source": [
    "raw_all, raw_meta = [\"RAW_ALL_BEAUTY_20230111.json.zip\", \"RAW_META_LUXURY_BEAUTY_20230111.json.zip\"]"
   ]
  },
  {
   "cell_type": "code",
   "execution_count": 19,
   "metadata": {},
   "outputs": [
    {
     "name": "stdout",
     "output_type": "stream",
     "text": [
      "hehehe\n",
      "hehehe\n"
     ]
    }
   ],
   "source": [
    "raw_all_json, raw_meta_json = extract_json_data(raw_all), extract_json_data(raw_meta)\n",
    "raw_all_df, raw_meta_df = get_data_frame(raw_all_json, raw_meta_json)"
   ]
  },
  {
   "cell_type": "code",
   "execution_count": 34,
   "metadata": {},
   "outputs": [
    {
     "name": "stdout",
     "output_type": "stream",
     "text": [
      "[ 74103 121769  12456 ...  26536  94594  96652]\n"
     ]
    }
   ],
   "source": [
    "print(pd.Categorical(raw_all_df[\"reviewerID\"]).codes)\n",
    "raw_all_df[\"reviewerID\"] = pd.Categorical(raw_all_df[\"reviewerID\"]).codes"
   ]
  },
  {
   "cell_type": "code",
   "execution_count": 36,
   "metadata": {},
   "outputs": [
    {
     "name": "stdout",
     "output_type": "stream",
     "text": [
      "<class 'pandas.core.frame.DataFrame'>\n",
      "RangeIndex: 371345 entries, 0 to 371344\n",
      "Data columns (total 12 columns):\n",
      " #   Column          Non-Null Count   Dtype  \n",
      "---  ------          --------------   -----  \n",
      " 0   overall         371345 non-null  float64\n",
      " 1   verified        371345 non-null  bool   \n",
      " 2   reviewTime      371345 non-null  object \n",
      " 3   reviewerID      371345 non-null  object \n",
      " 4   asin            371345 non-null  object \n",
      " 5   reviewerName    371307 non-null  object \n",
      " 6   reviewText      370946 non-null  object \n",
      " 7   summary         371139 non-null  object \n",
      " 8   unixReviewTime  371345 non-null  int64  \n",
      " 9   vote            51899 non-null   object \n",
      " 10  style           125958 non-null  object \n",
      " 11  image           8391 non-null    object \n",
      "dtypes: bool(1), float64(1), int64(1), object(9)\n",
      "memory usage: 31.5+ MB\n",
      "\n",
      "RAW ALL info: \n",
      "None\n"
     ]
    }
   ],
   "source": [
    "#print(\"RAW ALL: \\n{}\".format(raw_all_df.head()))\n",
    "print(\"\\nRAW ALL info: \\n{}\".format(raw_all_df.info()))\n",
    "#print(\"\\nRAW ALL columns: \\n{}\".format(raw_all_df.columns))\n"
   ]
  },
  {
   "cell_type": "code",
   "execution_count": 25,
   "metadata": {},
   "outputs": [
    {
     "name": "stdout",
     "output_type": "stream",
     "text": [
      "<class 'pandas.core.frame.DataFrame'>\n",
      "RangeIndex: 12299 entries, 0 to 12298\n",
      "Data columns (total 19 columns):\n",
      " #   Column           Non-Null Count  Dtype \n",
      "---  ------           --------------  ----- \n",
      " 0   category         12299 non-null  object\n",
      " 1   tech1            12299 non-null  object\n",
      " 2   description      12299 non-null  object\n",
      " 3   fit              12299 non-null  object\n",
      " 4   title            12299 non-null  object\n",
      " 5   also_buy         12299 non-null  object\n",
      " 6   tech2            12299 non-null  object\n",
      " 7   brand            12299 non-null  object\n",
      " 8   feature          12299 non-null  object\n",
      " 9   rank             12299 non-null  object\n",
      " 10  also_view        12299 non-null  object\n",
      " 11  details          12299 non-null  object\n",
      " 12  main_cat         12299 non-null  object\n",
      " 13  similar_item     12299 non-null  object\n",
      " 14  date             12299 non-null  object\n",
      " 15  price            12299 non-null  object\n",
      " 16  asin             12299 non-null  object\n",
      " 17  imageURL         12299 non-null  object\n",
      " 18  imageURLHighRes  12299 non-null  object\n",
      "dtypes: object(19)\n",
      "memory usage: 1.8+ MB\n",
      "\n",
      "RAW META info: \n",
      "None\n"
     ]
    }
   ],
   "source": [
    "#print(\"\\nRAW META: \\n{}\".format(raw_meta_df.head()))\n",
    "print(\"\\nRAW META info: \\n{}\".format(raw_meta_df.info()))"
   ]
  },
  {
   "cell_type": "code",
   "execution_count": 18,
   "metadata": {},
   "outputs": [
    {
     "name": "stdout",
     "output_type": "stream",
     "text": [
      "c:\\Users\\brend\\OneDrive\\Escritorio\\Postgrado\\RecSys_Project\\GitHub_repo\\Recommender-System-2023\\Ejecución\\1_Datos\\RAW_ALL_BEAUTY_20230111.json\\All_Beauty.json\n",
      "c:\\Users\\brend\\OneDrive\\Escritorio\\Postgrado\\RecSys_Project\\GitHub_repo\\Recommender-System-2023\\Ejecución\\1_Datos\\RAW_ALL_BEAUTY_20230111.json\n",
      "c:\\Users\\brend\\OneDrive\\Escritorio\\Postgrado\\RecSys_Project\\GitHub_repo\\Recommender-System-2023\\Ejecución\\1_Datos\\RAW_META_LUXURY_BEAUTY_20230111.json\\meta_Luxury_Beauty.json\n",
      "c:\\Users\\brend\\OneDrive\\Escritorio\\Postgrado\\RecSys_Project\\GitHub_repo\\Recommender-System-2023\\Ejecución\\1_Datos\\RAW_META_LUXURY_BEAUTY_20230111.json\n"
     ]
    }
   ],
   "source": [
    "# DELETE FOLDER CREATED\n",
    "import shutil\n",
    "def delete_folder_raw_data(raw_name):\n",
    "    path = extract_json_data(raw_name)\n",
    "    print(path)\n",
    "\n",
    "    separador = os.path.sep\n",
    "    folder_to_delete = separador.join(path.split(separador)[:-1])\n",
    "\n",
    "    print(folder_to_delete)\n",
    "    shutil.rmtree(folder_to_delete)\n",
    "\n",
    "delete_folder_raw_data(raw_all)\n",
    "delete_folder_raw_data(raw_meta)\n"
   ]
  }
 ],
 "metadata": {
  "kernelspec": {
   "display_name": "Python 3",
   "language": "python",
   "name": "python3"
  },
  "language_info": {
   "codemirror_mode": {
    "name": "ipython",
    "version": 3
   },
   "file_extension": ".py",
   "mimetype": "text/x-python",
   "name": "python",
   "nbconvert_exporter": "python",
   "pygments_lexer": "ipython3",
   "version": "3.7.9"
  },
  "orig_nbformat": 4,
  "vscode": {
   "interpreter": {
    "hash": "977d1ca4f86cf6796d22eaa6050e2f72f1e03740aa8986f601710bf090b5ff9a"
   }
  }
 },
 "nbformat": 4,
 "nbformat_minor": 2
}
