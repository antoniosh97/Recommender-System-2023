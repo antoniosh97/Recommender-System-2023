{
 "cells": [
  {
   "cell_type": "code",
   "execution_count": 3,
   "metadata": {},
   "outputs": [],
   "source": [
    "import os\n",
    "from zipfile import ZipFile\n",
    "import pandas as pd\n",
    "import json"
   ]
  },
  {
   "cell_type": "code",
   "execution_count": 4,
   "metadata": {},
   "outputs": [
    {
     "name": "stdout",
     "output_type": "stream",
     "text": [
      "hehehe\n"
     ]
    }
   ],
   "source": [
    "filename = \"RAW_META_LUXURY_BEAUTY_20230111.json.zip\"\n",
    "separador = os.path.sep\n",
    "dir_actual = os.getcwd()\n",
    "execution_folder_dir = separador.join(dir_actual.split(separador)[:-1])\n",
    "data_json = os.path.join(execution_folder_dir, \"1_Datos\", filename)\n",
    "\n",
    "path_to_extract = os.path.join(execution_folder_dir, \"1_Datos\")\n",
    "if not os.path.exists(data_json[:-4]):\n",
    "    print(\"hehehe\")\n",
    "    with ZipFile(data_json, 'r') as f:\n",
    "        f.extractall(path_to_extract)\n",
    "data_json = data_json[:-4]\n",
    "file_json = os.listdir(data_json)[0]\n",
    "os.chdir(data_json)\n"
   ]
  },
  {
   "cell_type": "code",
   "execution_count": 5,
   "metadata": {},
   "outputs": [
    {
     "name": "stdout",
     "output_type": "stream",
     "text": [
      "c:\\Users\\brend\\OneDrive\\Escritorio\\Postgrado\\RecSys_Project\\GitHub_repo\\Recommender-System-2023\\Ejecución\\1_Datos\\RAW_All_BEAUTY_20230111.json\n",
      "All_Beauty.json\n"
     ]
    }
   ],
   "source": [
    "print(os.getcwd(), end= \"\\n\")\n",
    "print(file_json)"
   ]
  },
  {
   "cell_type": "code",
   "execution_count": 6,
   "metadata": {},
   "outputs": [
    {
     "name": "stdout",
     "output_type": "stream",
     "text": [
      "       a  b\n",
      "0   True  2\n",
      "1  False  3\n"
     ]
    }
   ],
   "source": [
    "import pandas as pd\n",
    "a = pd.DataFrame.from_records([{\"a\": True, \"b\": 2},{\"a\": False, \"b\": 3}])\n",
    "print(a.head())"
   ]
  },
  {
   "cell_type": "code",
   "execution_count": 7,
   "metadata": {},
   "outputs": [
    {
     "name": "stdout",
     "output_type": "stream",
     "text": [
      "   overall  verified   reviewTime      reviewerID        asin  \\\n",
      "0      1.0      True  02 19, 2015  A1V6B6TNIC10QE  0143026860   \n",
      "1      4.0      True  12 18, 2014  A2F5GHSXFQ0W6J  0143026860   \n",
      "2      4.0      True  08 10, 2014  A1572GUYS7DGSR  0143026860   \n",
      "3      5.0      True  03 11, 2013   A1PSGLFK1NSVO  0143026860   \n",
      "4      5.0      True  12 25, 2011   A6IKXKZMTKGSC  0143026860   \n",
      "\n",
      "        reviewerName                                         reviewText  \\\n",
      "0  theodore j bigham                                              great   \n",
      "1       Mary K. Byke  My  husband wanted to reading about the Negro ...   \n",
      "2            David G  This book was very informative, covering all a...   \n",
      "3               TamB  I am already a baseball fan and knew a bit abo...   \n",
      "4         shoecanary  This was a good story of the Black leagues. I ...   \n",
      "\n",
      "                                             summary  unixReviewTime vote  \\\n",
      "0                                           One Star      1424304000  NaN   \n",
      "1  ... to reading about the Negro Baseball and th...      1418860800  NaN   \n",
      "2                                     Worth the Read      1407628800  NaN   \n",
      "3                                          Good Read      1362960000  NaN   \n",
      "4                More than facts, a good story read!      1324771200    5   \n",
      "\n",
      "  style image  \n",
      "0   NaN   NaN  \n",
      "1   NaN   NaN  \n",
      "2   NaN   NaN  \n",
      "3   NaN   NaN  \n",
      "4   NaN   NaN  \n"
     ]
    }
   ],
   "source": [
    "f = open(file_json, \"r\")\n",
    "data = []\n",
    "for line in f.readlines():\n",
    "    data.append(json.loads(line))\n",
    "#a = pd.DataFrame.from_records([{\"a\": True, \"b\": 2},{\"a\": False, \"b\": 3}])\n",
    "a = pd.DataFrame.from_records(data)\n",
    "print(a.head())"
   ]
  }
 ],
 "metadata": {
  "kernelspec": {
   "display_name": "Python 3",
   "language": "python",
   "name": "python3"
  },
  "language_info": {
   "codemirror_mode": {
    "name": "ipython",
    "version": 3
   },
   "file_extension": ".py",
   "mimetype": "text/x-python",
   "name": "python",
   "nbconvert_exporter": "python",
   "pygments_lexer": "ipython3",
   "version": "3.7.9 (tags/v3.7.9:13c94747c7, Aug 17 2020, 18:58:18) [MSC v.1900 64 bit (AMD64)]"
  },
  "orig_nbformat": 4,
  "vscode": {
   "interpreter": {
    "hash": "977d1ca4f86cf6796d22eaa6050e2f72f1e03740aa8986f601710bf090b5ff9a"
   }
  }
 },
 "nbformat": 4,
 "nbformat_minor": 2
}
