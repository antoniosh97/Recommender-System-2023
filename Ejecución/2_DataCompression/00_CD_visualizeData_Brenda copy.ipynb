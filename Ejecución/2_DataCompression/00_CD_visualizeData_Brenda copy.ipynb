{
 "cells": [
  {
   "cell_type": "code",
   "execution_count": null,
   "metadata": {},
   "outputs": [],
   "source": [
    "import os\n",
    "from zipfile import ZipFile\n",
    "import pandas as pd\n",
    "import json"
   ]
  },
  {
   "cell_type": "code",
   "execution_count": 2,
   "metadata": {},
   "outputs": [],
   "source": [
    "def extract_json_data(filename = \"RAW_META_LUXURY_BEAUTY_20230111.json.zip\"):\n",
    "    separador = os.path.sep\n",
    "    dir_actual = os.getcwd()\n",
    "    execution_folder_dir = separador.join(dir_actual.split(separador)[:-1])\n",
    "    folder_json = os.path.join(execution_folder_dir, \"1_Datos\", filename)\n",
    "\n",
    "    path_to_extract = os.path.join(execution_folder_dir, \"1_Datos\")\n",
    "    if not os.path.exists(folder_json[:-4]):\n",
    "        print(\"hehehe\")\n",
    "        with ZipFile(folder_json, 'r') as f:\n",
    "            f.extractall(path_to_extract)\n",
    "    folder_json = folder_json[:-4]\n",
    "    file_json = os.listdir(folder_json)[0]\n",
    "    return separador.join([folder_json, file_json])\n"
   ]
  },
  {
   "cell_type": "code",
   "execution_count": 6,
   "metadata": {},
   "outputs": [
    {
     "name": "stdout",
     "output_type": "stream",
     "text": [
      "       a  b\n",
      "0   True  2\n",
      "1  False  3\n"
     ]
    }
   ],
   "source": [
    "import pandas as pd\n",
    "a = pd.DataFrame.from_records([{\"a\": True, \"b\": 2},{\"a\": False, \"b\": 3}])\n",
    "print(a.head())"
   ]
  },
  {
   "cell_type": "code",
   "execution_count": 3,
   "metadata": {},
   "outputs": [],
   "source": [
    "def open_json_file(file_json):\n",
    "    data = []\n",
    "    #with open(file_json, \"r\") as f:\n",
    "    #    for line in f.readlines():\n",
    "    #       data.append(json.loads(line))\n",
    "\n",
    "    f = open(file_json, \"r\")\n",
    "    for line in f.readlines():\n",
    "        data.append(json.loads(line))\n",
    "    f.close()\n",
    "\n",
    "    df = pd.DataFrame.from_records(data)\n",
    "    return df\n",
    "\n",
    "def get_data_frame(raw_all_json, raw_meta_json):\n",
    "    raw_all_df = open_json_file(raw_all_json)\n",
    "    raw_meta_df = open_json_file(raw_meta_json)\n",
    "\n",
    "    return raw_all_df, raw_meta_df"
   ]
  },
  {
   "cell_type": "code",
   "execution_count": null,
   "metadata": {},
   "outputs": [],
   "source": [
    "raw_all, raw_meta = [\"RAW_ALL_BEAUTY_20230111.json.zip\", \"RAW_META_LUXURY_BEAUTY_20230111.json.zip\"]"
   ]
  },
  {
   "cell_type": "code",
   "execution_count": 4,
   "metadata": {},
   "outputs": [
    {
     "name": "stdout",
     "output_type": "stream",
     "text": [
      "hehehe\n",
      "hehehe\n"
     ]
    }
   ],
   "source": [
    "raw_all_json, raw_meta_json = extract_json_data(raw_all), extract_json_data(raw_meta)\n",
    "raw_all_df, raw_meta_df = get_data_frame(raw_all_json, raw_meta_json)"
   ]
  },
  {
   "cell_type": "code",
   "execution_count": null,
   "metadata": {},
   "outputs": [
    {
     "name": "stdout",
     "output_type": "stream",
     "text": [
      "hehehe\n"
     ]
    },
    {
     "ename": "PermissionError",
     "evalue": "[Errno 13] Permission denied: 'c:\\\\Users\\\\brend\\\\OneDrive\\\\Escritorio\\\\Postgrado\\\\RecSys_Project\\\\GitHub_repo\\\\Recommender-System-2023\\\\Ejecución\\\\1_Datos\\\\RAW_ALL_BEAUTY_20230111.json'",
     "output_type": "error",
     "traceback": [
      "\u001b[1;31m---------------------------------------------------------------------------\u001b[0m",
      "\u001b[1;31mPermissionError\u001b[0m                           Traceback (most recent call last)",
      "\u001b[1;32mC:\\Users\\brend\\AppData\\Local\\Temp\\ipykernel_20020\\858178548.py\u001b[0m in \u001b[0;36m<module>\u001b[1;34m\u001b[0m\n\u001b[0;32m     10\u001b[0m     \u001b[0mshutil\u001b[0m\u001b[1;33m.\u001b[0m\u001b[0mrmtree\u001b[0m\u001b[1;33m(\u001b[0m\u001b[0mfolder_to_delete\u001b[0m\u001b[1;33m)\u001b[0m\u001b[1;33m\u001b[0m\u001b[1;33m\u001b[0m\u001b[0m\n\u001b[0;32m     11\u001b[0m \u001b[1;33m\u001b[0m\u001b[0m\n\u001b[1;32m---> 12\u001b[1;33m \u001b[0mdelete_folder_raw_data\u001b[0m\u001b[1;33m(\u001b[0m\u001b[0mraw_all\u001b[0m\u001b[1;33m)\u001b[0m\u001b[1;33m\u001b[0m\u001b[1;33m\u001b[0m\u001b[0m\n\u001b[0m\u001b[0;32m     13\u001b[0m \u001b[0mdelete_folder_raw_data\u001b[0m\u001b[1;33m(\u001b[0m\u001b[0mraw_meta\u001b[0m\u001b[1;33m)\u001b[0m\u001b[1;33m\u001b[0m\u001b[1;33m\u001b[0m\u001b[0m\n",
      "\u001b[1;32mC:\\Users\\brend\\AppData\\Local\\Temp\\ipykernel_20020\\858178548.py\u001b[0m in \u001b[0;36mdelete_folder_raw_data\u001b[1;34m(raw_name)\u001b[0m\n\u001b[0;32m      2\u001b[0m \u001b[1;32mimport\u001b[0m \u001b[0mshutil\u001b[0m\u001b[1;33m\u001b[0m\u001b[1;33m\u001b[0m\u001b[0m\n\u001b[0;32m      3\u001b[0m \u001b[1;32mdef\u001b[0m \u001b[0mdelete_folder_raw_data\u001b[0m\u001b[1;33m(\u001b[0m\u001b[0mraw_name\u001b[0m\u001b[1;33m)\u001b[0m\u001b[1;33m:\u001b[0m\u001b[1;33m\u001b[0m\u001b[1;33m\u001b[0m\u001b[0m\n\u001b[1;32m----> 4\u001b[1;33m     \u001b[0mpath\u001b[0m \u001b[1;33m=\u001b[0m \u001b[0mextract_json_data\u001b[0m\u001b[1;33m(\u001b[0m\u001b[0mraw_name\u001b[0m\u001b[1;33m[\u001b[0m\u001b[1;33m:\u001b[0m\u001b[1;33m-\u001b[0m\u001b[1;36m4\u001b[0m\u001b[1;33m]\u001b[0m\u001b[1;33m)\u001b[0m\u001b[1;33m\u001b[0m\u001b[1;33m\u001b[0m\u001b[0m\n\u001b[0m\u001b[0;32m      5\u001b[0m \u001b[1;33m\u001b[0m\u001b[0m\n\u001b[0;32m      6\u001b[0m     \u001b[0mseparador\u001b[0m \u001b[1;33m=\u001b[0m \u001b[0mos\u001b[0m\u001b[1;33m.\u001b[0m\u001b[0mpath\u001b[0m\u001b[1;33m.\u001b[0m\u001b[0msep\u001b[0m\u001b[1;33m\u001b[0m\u001b[1;33m\u001b[0m\u001b[0m\n",
      "\u001b[1;32mC:\\Users\\brend\\AppData\\Local\\Temp\\ipykernel_20020\\472822358.py\u001b[0m in \u001b[0;36mextract_json_data\u001b[1;34m(filename)\u001b[0m\n\u001b[0;32m      8\u001b[0m     \u001b[1;32mif\u001b[0m \u001b[1;32mnot\u001b[0m \u001b[0mos\u001b[0m\u001b[1;33m.\u001b[0m\u001b[0mpath\u001b[0m\u001b[1;33m.\u001b[0m\u001b[0mexists\u001b[0m\u001b[1;33m(\u001b[0m\u001b[0mfolder_json\u001b[0m\u001b[1;33m[\u001b[0m\u001b[1;33m:\u001b[0m\u001b[1;33m-\u001b[0m\u001b[1;36m4\u001b[0m\u001b[1;33m]\u001b[0m\u001b[1;33m)\u001b[0m\u001b[1;33m:\u001b[0m\u001b[1;33m\u001b[0m\u001b[1;33m\u001b[0m\u001b[0m\n\u001b[0;32m      9\u001b[0m         \u001b[0mprint\u001b[0m\u001b[1;33m(\u001b[0m\u001b[1;34m\"hehehe\"\u001b[0m\u001b[1;33m)\u001b[0m\u001b[1;33m\u001b[0m\u001b[1;33m\u001b[0m\u001b[0m\n\u001b[1;32m---> 10\u001b[1;33m         \u001b[1;32mwith\u001b[0m \u001b[0mZipFile\u001b[0m\u001b[1;33m(\u001b[0m\u001b[0mfolder_json\u001b[0m\u001b[1;33m,\u001b[0m \u001b[1;34m'r'\u001b[0m\u001b[1;33m)\u001b[0m \u001b[1;32mas\u001b[0m \u001b[0mf\u001b[0m\u001b[1;33m:\u001b[0m\u001b[1;33m\u001b[0m\u001b[1;33m\u001b[0m\u001b[0m\n\u001b[0m\u001b[0;32m     11\u001b[0m             \u001b[0mf\u001b[0m\u001b[1;33m.\u001b[0m\u001b[0mextractall\u001b[0m\u001b[1;33m(\u001b[0m\u001b[0mpath_to_extract\u001b[0m\u001b[1;33m)\u001b[0m\u001b[1;33m\u001b[0m\u001b[1;33m\u001b[0m\u001b[0m\n\u001b[0;32m     12\u001b[0m     \u001b[0mfolder_json\u001b[0m \u001b[1;33m=\u001b[0m \u001b[0mfolder_json\u001b[0m\u001b[1;33m[\u001b[0m\u001b[1;33m:\u001b[0m\u001b[1;33m-\u001b[0m\u001b[1;36m4\u001b[0m\u001b[1;33m]\u001b[0m\u001b[1;33m\u001b[0m\u001b[1;33m\u001b[0m\u001b[0m\n",
      "\u001b[1;32mc:\\Users\\brend\\AppData\\Local\\Programs\\Python\\Python37\\lib\\zipfile.py\u001b[0m in \u001b[0;36m__init__\u001b[1;34m(self, file, mode, compression, allowZip64, compresslevel)\u001b[0m\n\u001b[0;32m   1238\u001b[0m             \u001b[1;32mwhile\u001b[0m \u001b[1;32mTrue\u001b[0m\u001b[1;33m:\u001b[0m\u001b[1;33m\u001b[0m\u001b[1;33m\u001b[0m\u001b[0m\n\u001b[0;32m   1239\u001b[0m                 \u001b[1;32mtry\u001b[0m\u001b[1;33m:\u001b[0m\u001b[1;33m\u001b[0m\u001b[1;33m\u001b[0m\u001b[0m\n\u001b[1;32m-> 1240\u001b[1;33m                     \u001b[0mself\u001b[0m\u001b[1;33m.\u001b[0m\u001b[0mfp\u001b[0m \u001b[1;33m=\u001b[0m \u001b[0mio\u001b[0m\u001b[1;33m.\u001b[0m\u001b[0mopen\u001b[0m\u001b[1;33m(\u001b[0m\u001b[0mfile\u001b[0m\u001b[1;33m,\u001b[0m \u001b[0mfilemode\u001b[0m\u001b[1;33m)\u001b[0m\u001b[1;33m\u001b[0m\u001b[1;33m\u001b[0m\u001b[0m\n\u001b[0m\u001b[0;32m   1241\u001b[0m                 \u001b[1;32mexcept\u001b[0m \u001b[0mOSError\u001b[0m\u001b[1;33m:\u001b[0m\u001b[1;33m\u001b[0m\u001b[1;33m\u001b[0m\u001b[0m\n\u001b[0;32m   1242\u001b[0m                     \u001b[1;32mif\u001b[0m \u001b[0mfilemode\u001b[0m \u001b[1;32min\u001b[0m \u001b[0mmodeDict\u001b[0m\u001b[1;33m:\u001b[0m\u001b[1;33m\u001b[0m\u001b[1;33m\u001b[0m\u001b[0m\n",
      "\u001b[1;31mPermissionError\u001b[0m: [Errno 13] Permission denied: 'c:\\\\Users\\\\brend\\\\OneDrive\\\\Escritorio\\\\Postgrado\\\\RecSys_Project\\\\GitHub_repo\\\\Recommender-System-2023\\\\Ejecución\\\\1_Datos\\\\RAW_ALL_BEAUTY_20230111.json'"
     ]
    }
   ],
   "source": [
    "# DELETE FOLDER CREATED\n",
    "import shutil\n",
    "def delete_folder_raw_data(raw_name):\n",
    "    path = extract_json_data(raw_name[:-4])\n",
    "\n",
    "    separador = os.path.sep\n",
    "    folder_to_delete = separador.join(path.split(separador)[:-1])\n",
    "\n",
    "    print(folder_to_delete)\n",
    "    shutil.rmtree(folder_to_delete)\n",
    "\n",
    "delete_folder_raw_data(raw_all)\n",
    "delete_folder_raw_data(raw_meta)\n"
   ]
  }
 ],
 "metadata": {
  "kernelspec": {
   "display_name": "Python 3",
   "language": "python",
   "name": "python3"
  },
  "language_info": {
   "codemirror_mode": {
    "name": "ipython",
    "version": 3
   },
   "file_extension": ".py",
   "mimetype": "text/x-python",
   "name": "python",
   "nbconvert_exporter": "python",
   "pygments_lexer": "ipython3",
   "version": "3.7.9 (tags/v3.7.9:13c94747c7, Aug 17 2020, 18:58:18) [MSC v.1900 64 bit (AMD64)]"
  },
  "orig_nbformat": 4,
  "vscode": {
   "interpreter": {
    "hash": "977d1ca4f86cf6796d22eaa6050e2f72f1e03740aa8986f601710bf090b5ff9a"
   }
  }
 },
 "nbformat": 4,
 "nbformat_minor": 2
}
