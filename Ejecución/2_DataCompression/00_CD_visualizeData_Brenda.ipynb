{
 "cells": [
  {
   "cell_type": "code",
   "execution_count": 1,
   "metadata": {},
   "outputs": [],
   "source": [
    "import gzip\n",
    "import os\n",
    "from zipfile import ZipFile\n",
    "import pandas as pd\n",
    "import json"
   ]
  },
  {
   "cell_type": "code",
   "execution_count": 2,
   "metadata": {},
   "outputs": [
    {
     "name": "stdout",
     "output_type": "stream",
     "text": [
      "hehehe\n"
     ]
    }
   ],
   "source": [
    "filename = \"RAW_All_BEAUTY_20230111.json.zip\"\n",
    "separador = os.path.sep\n",
    "dir_actual = os.getcwd()\n",
    "execution_folder_dir = separador.join(dir_actual.split(separador)[:-1])\n",
    "data_json = os.path.join(execution_folder_dir, \"1_Datos\", filename)\n",
    "\n",
    "path_to_extract = os.path.join(execution_folder_dir, \"1_Datos\")\n",
    "if not os.path.exists(data_json[:-4]):\n",
    "    print(\"hehehe\")\n",
    "    with ZipFile(data_json, 'r') as f:\n",
    "        f.extractall(path_to_extract)\n",
    "data_json = data_json[:-4]\n",
    "file_json = os.listdir(data_json)[0]\n",
    "os.chdir(data_json)\n"
   ]
  },
  {
   "cell_type": "code",
   "execution_count": 3,
   "metadata": {},
   "outputs": [
    {
     "name": "stdout",
     "output_type": "stream",
     "text": [
      "c:\\Users\\brend\\OneDrive\\Escritorio\\Postgrado\\RecSys_Project\\GitHub_repo\\Recommender-System-2023\\Ejecución\\1_Datos\\RAW_META_LUXURY_BEAUTY_20230111.json\n",
      "meta_Luxury_Beauty.json\n"
     ]
    }
   ],
   "source": [
    "print(os.getcwd(), end= \"\\n\")\n",
    "print(file_json)"
   ]
  },
  {
   "cell_type": "code",
   "execution_count": 13,
   "metadata": {},
   "outputs": [
    {
     "name": "stdout",
     "output_type": "stream",
     "text": [
      "<class 'dict'>\n",
      "<built-in method keys of dict object at 0x0000018D36AD0E08>\n"
     ]
    }
   ],
   "source": [
    "f = open(file_json)\n",
    "data = json.load(f)\n",
    "print(type(data))\n",
    "print(data.keys)\n",
    "#df = pd.read_json(file_json)"
   ]
  }
 ],
 "metadata": {
  "kernelspec": {
   "display_name": "Python 3",
   "language": "python",
   "name": "python3"
  },
  "language_info": {
   "codemirror_mode": {
    "name": "ipython",
    "version": 3
   },
   "file_extension": ".py",
   "mimetype": "text/x-python",
   "name": "python",
   "nbconvert_exporter": "python",
   "pygments_lexer": "ipython3",
   "version": "3.7.9"
  },
  "orig_nbformat": 4,
  "vscode": {
   "interpreter": {
    "hash": "977d1ca4f86cf6796d22eaa6050e2f72f1e03740aa8986f601710bf090b5ff9a"
   }
  }
 },
 "nbformat": 4,
 "nbformat_minor": 2
}
