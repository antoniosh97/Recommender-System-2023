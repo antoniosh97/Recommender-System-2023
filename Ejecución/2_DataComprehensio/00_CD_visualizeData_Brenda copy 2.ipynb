{
 "cells": [
  {
   "cell_type": "code",
   "execution_count": 4,
   "metadata": {},
   "outputs": [],
   "source": [
    "import os\n",
    "from zipfile import ZipFile\n",
    "import pandas as pd\n",
    "import json\n",
    "import numpy as np"
   ]
  },
  {
   "cell_type": "code",
   "execution_count": 5,
   "metadata": {},
   "outputs": [],
   "source": [
    "def extract_json_data(filename = \"RAW_META_LUXURY_BEAUTY_20230111.json.zip\"):\n",
    "    separador = os.path.sep\n",
    "    dir_actual = os.getcwd()\n",
    "    execution_folder_dir = separador.join(dir_actual.split(separador)[:-1])\n",
    "    folder_json = os.path.join(execution_folder_dir, \"1_Datos\", filename)\n",
    "\n",
    "    path_to_extract = os.path.join(execution_folder_dir, \"1_Datos\")\n",
    "    if not os.path.exists(folder_json[:-4]):\n",
    "        print(\"hehehe\")\n",
    "        with ZipFile(folder_json, 'r') as f:\n",
    "            f.extractall(path_to_extract)\n",
    "    folder_json = folder_json[:-4]\n",
    "    file_json = os.listdir(folder_json)[0]\n",
    "    return separador.join([folder_json, file_json])\n"
   ]
  },
  {
   "cell_type": "code",
   "execution_count": 6,
   "metadata": {},
   "outputs": [
    {
     "name": "stdout",
     "output_type": "stream",
     "text": [
      "       a  b\n",
      "0   True  2\n",
      "1  False  3\n"
     ]
    }
   ],
   "source": [
    "import pandas as pd\n",
    "a = pd.DataFrame.from_records([{\"a\": True, \"b\": 2},{\"a\": False, \"b\": 3}])\n",
    "print(a.head())"
   ]
  },
  {
   "cell_type": "code",
   "execution_count": 8,
   "metadata": {},
   "outputs": [],
   "source": [
    "def open_json_file(file_json):\n",
    "    data = []\n",
    "    with open(file_json, \"r\") as f:\n",
    "        for line in f.readlines():\n",
    "           data.append(json.loads(line))\n",
    "\n",
    "    df = pd.DataFrame.from_records(data)\n",
    "    df = df.rename(columns={'asin': 'itemID'})\n",
    "    return df\n",
    "\n",
    "def get_data_frame(raw_all_json, raw_meta_json):\n",
    "    raw_all_df = open_json_file(raw_all_json)\n",
    "    raw_meta_df = open_json_file(raw_meta_json)\n",
    "\n",
    "    return raw_all_df, raw_meta_df"
   ]
  },
  {
   "cell_type": "code",
   "execution_count": 9,
   "metadata": {},
   "outputs": [],
   "source": [
    "raw_all, raw_meta = [\"RAW_ALL_BEAUTY_20230111.json.zip\", \"RAW_META_LUXURY_BEAUTY_20230111.json.zip\"]\n",
    "raw_all_json, raw_meta_json = extract_json_data(raw_all), extract_json_data(raw_meta)\n",
    "raw_all_df, raw_meta_df = get_data_frame(raw_all_json, raw_meta_json)"
   ]
  },
  {
   "cell_type": "code",
   "execution_count": 12,
   "metadata": {},
   "outputs": [
    {
     "name": "stdout",
     "output_type": "stream",
     "text": [
      "Index(['overall', 'verified', 'reviewTime', 'reviewerID', 'itemID',\n",
      "       'reviewerName', 'reviewText', 'summary', 'unixReviewTime', 'vote',\n",
      "       'style', 'image'],\n",
      "      dtype='object')\n",
      "Index(['category', 'tech1', 'description', 'fit', 'title', 'also_buy', 'tech2',\n",
      "       'brand', 'feature', 'rank', 'also_view', 'details', 'main_cat',\n",
      "       'similar_item', 'date', 'price', 'itemID', 'imageURL',\n",
      "       'imageURLHighRes'],\n",
      "      dtype='object')\n"
     ]
    }
   ],
   "source": [
    "print(raw_all_df.columns)\n",
    "raw_all_df[\"reviewerID\"] = pd.Categorical(raw_all_df[\"reviewerID\"]).codes\n",
    "raw_all_df[\"itemID\"] = pd.Categorical(raw_all_df[\"itemID\"]).codes\n",
    "print(raw_meta_df.columns)"
   ]
  },
  {
   "cell_type": "code",
   "execution_count": null,
   "metadata": {},
   "outputs": [],
   "source": [
    "def split_train_test(data: np.ndarray,\n",
    "                     n_users: int) -> Tuple[np.ndarray, np.ndarray]:\n",
    "    # Split and remove timestamp\n",
    "    train_x, test_x = [], []\n",
    "    for u in trange(n_users, desc='spliting train/test and removing timestamp...'):\n",
    "        \"\"\"\n",
    "        Line 1: filtramos por cada usuario (u) y nos quedamos con SOLO sus datos.\n",
    "        Line 2: ordenamos para tener info + reciente al principio.\n",
    "        \"\"\"\n",
    "        user_data = data[data[:, 0] == u]\n",
    "        sorted_data = user_data[user_data[:, -1].argsort()]\n",
    "\n",
    "        if len(sorted_data) == 1:\n",
    "            train_x.append(sorted_data[0][:-1])\n",
    "        else:\n",
    "            \"\"\"\n",
    "            user = u\n",
    "            Line 1: guardas  (train) user,item de todos menos última ocurrencia.\n",
    "            Line 2: guardas (test) user,item de la última ocurrencia,\n",
    "            \"\"\"\n",
    "            train_x.append(sorted_data[:-1][:, :-1])\n",
    "            test_x.append(sorted_data[-1][:-1])\n",
    "    return np.vstack(train_x), np.stack(test_x)"
   ]
  },
  {
   "cell_type": "code",
   "execution_count": null,
   "metadata": {},
   "outputs": [],
   "source": [
    "data = raw_all_df[['reviewerID', 'itemID', 'unixReviewTime']].astype('int32').to_numpy()"
   ]
  },
  {
   "cell_type": "code",
   "execution_count": null,
   "metadata": {},
   "outputs": [],
   "source": [
    "add_dims=0\n",
    "for i in range(data.shape[1] - 1):  # do not affect to timestamp\n",
    "    # MAKE IT START BY 0\n",
    "    data[:, i] -= np.min(data[:, i])\n",
    "    # RE-INDEX\n",
    "    data[:, i] += add_dims\n",
    "    add_dims = np.max(data[:, i]) + 1\n",
    "dims = np.max(data, axis=0) + 1 # max de cada columna\n",
    "#data # item col = items+users"
   ]
  },
  {
   "cell_type": "code",
   "execution_count": null,
   "metadata": {},
   "outputs": [],
   "source": [
    "train_x, test_x = split_train_test(data, dims[0]) # dims[0]: max users"
   ]
  },
  {
   "cell_type": "code",
   "execution_count": 3,
   "metadata": {},
   "outputs": [
    {
     "ename": "NameError",
     "evalue": "name 'extract_json_data' is not defined",
     "output_type": "error",
     "traceback": [
      "\u001b[1;31m---------------------------------------------------------------------------\u001b[0m",
      "\u001b[1;31mNameError\u001b[0m                                 Traceback (most recent call last)",
      "\u001b[1;32mC:\\Users\\brend\\AppData\\Local\\Temp\\ipykernel_3820\\1009816366.py\u001b[0m in \u001b[0;36m<module>\u001b[1;34m\u001b[0m\n\u001b[0;32m     12\u001b[0m     \u001b[0mshutil\u001b[0m\u001b[1;33m.\u001b[0m\u001b[0mrmtree\u001b[0m\u001b[1;33m(\u001b[0m\u001b[0mfolder_to_delete\u001b[0m\u001b[1;33m)\u001b[0m\u001b[1;33m\u001b[0m\u001b[1;33m\u001b[0m\u001b[0m\n\u001b[0;32m     13\u001b[0m \u001b[1;33m\u001b[0m\u001b[0m\n\u001b[1;32m---> 14\u001b[1;33m \u001b[0mdelete_folder_raw_data\u001b[0m\u001b[1;33m(\u001b[0m\u001b[0mraw_all\u001b[0m\u001b[1;33m)\u001b[0m\u001b[1;33m\u001b[0m\u001b[1;33m\u001b[0m\u001b[0m\n\u001b[0m\u001b[0;32m     15\u001b[0m \u001b[0mdelete_folder_raw_data\u001b[0m\u001b[1;33m(\u001b[0m\u001b[0mraw_meta\u001b[0m\u001b[1;33m)\u001b[0m\u001b[1;33m\u001b[0m\u001b[1;33m\u001b[0m\u001b[0m\n",
      "\u001b[1;32mC:\\Users\\brend\\AppData\\Local\\Temp\\ipykernel_3820\\1009816366.py\u001b[0m in \u001b[0;36mdelete_folder_raw_data\u001b[1;34m(raw_name)\u001b[0m\n\u001b[0;32m      3\u001b[0m \u001b[1;32mimport\u001b[0m \u001b[0mshutil\u001b[0m\u001b[1;33m\u001b[0m\u001b[1;33m\u001b[0m\u001b[0m\n\u001b[0;32m      4\u001b[0m \u001b[1;32mdef\u001b[0m \u001b[0mdelete_folder_raw_data\u001b[0m\u001b[1;33m(\u001b[0m\u001b[0mraw_name\u001b[0m\u001b[1;33m)\u001b[0m\u001b[1;33m:\u001b[0m\u001b[1;33m\u001b[0m\u001b[1;33m\u001b[0m\u001b[0m\n\u001b[1;32m----> 5\u001b[1;33m     \u001b[0mpath\u001b[0m \u001b[1;33m=\u001b[0m \u001b[0mextract_json_data\u001b[0m\u001b[1;33m(\u001b[0m\u001b[0mraw_name\u001b[0m\u001b[1;33m)\u001b[0m\u001b[1;33m\u001b[0m\u001b[1;33m\u001b[0m\u001b[0m\n\u001b[0m\u001b[0;32m      6\u001b[0m     \u001b[0mprint\u001b[0m\u001b[1;33m(\u001b[0m\u001b[0mpath\u001b[0m\u001b[1;33m)\u001b[0m\u001b[1;33m\u001b[0m\u001b[1;33m\u001b[0m\u001b[0m\n\u001b[0;32m      7\u001b[0m \u001b[1;33m\u001b[0m\u001b[0m\n",
      "\u001b[1;31mNameError\u001b[0m: name 'extract_json_data' is not defined"
     ]
    }
   ],
   "source": [
    "# DELETE FOLDER CREATED\n",
    "raw_all, raw_meta = [\"RAW_ALL_BEAUTY_20230111.json.zip\", \"RAW_META_LUXURY_BEAUTY_20230111.json.zip\"]\n",
    "import shutil\n",
    "def delete_folder_raw_data(raw_name):\n",
    "    path = extract_json_data(raw_name)\n",
    "    print(path)\n",
    "\n",
    "    separador = os.path.sep\n",
    "    folder_to_delete = separador.join(path.split(separador)[:-1])\n",
    "\n",
    "    print(folder_to_delete)\n",
    "    shutil.rmtree(folder_to_delete)\n",
    "\n",
    "delete_folder_raw_data(raw_all)\n",
    "delete_folder_raw_data(raw_meta)\n"
   ]
  }
 ],
 "metadata": {
  "kernelspec": {
   "display_name": "Python 3",
   "language": "python",
   "name": "python3"
  },
  "language_info": {
   "codemirror_mode": {
    "name": "ipython",
    "version": 3
   },
   "file_extension": ".py",
   "mimetype": "text/x-python",
   "name": "python",
   "nbconvert_exporter": "python",
   "pygments_lexer": "ipython3",
   "version": "3.7.9"
  },
  "orig_nbformat": 4,
  "vscode": {
   "interpreter": {
    "hash": "977d1ca4f86cf6796d22eaa6050e2f72f1e03740aa8986f601710bf090b5ff9a"
   }
  }
 },
 "nbformat": 4,
 "nbformat_minor": 2
}
