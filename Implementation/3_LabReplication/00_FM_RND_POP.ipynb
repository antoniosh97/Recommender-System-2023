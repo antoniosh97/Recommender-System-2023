{
 "cells": [
  {
   "cell_type": "code",
   "execution_count": 1,
   "metadata": {},
   "outputs": [],
   "source": [
    "# \"\"\"\n",
    "# Colab execution only\n",
    "# \"\"\"\n",
    "# import os\n",
    "# from pathlib import Path\n",
    "\n",
    "# !git clone \"https://github.com/antoniosh97/Recommender-System-2023.git\"\n",
    "\n",
    "# path = Path('Recommender-System-2023/Implementation/3_LabReplication')\n",
    "# print(f\"Current path: \\n{path}\\nContent inside the folder:\\n{os.listdir(path)}\")\n",
    "# os.chdir(path)"
   ]
  },
  {
   "cell_type": "code",
   "execution_count": 2,
   "metadata": {},
   "outputs": [
    {
     "data": {
      "text/plain": [
       "'c:\\\\Users\\\\brend\\\\OneDrive\\\\Escritorio\\\\Postgrado\\\\RecSys_Project\\\\GitHub_repo\\\\Clone\\\\Recommender-System-2023\\\\Implementation'"
      ]
     },
     "execution_count": 2,
     "metadata": {},
     "output_type": "execute_result"
    }
   ],
   "source": [
    "#====================== Import de librerias =====================#\n",
    "\n",
    "from pathlib import Path\n",
    "import json\n",
    "import gzip\n",
    "from urllib.request import urlopen\n",
    "import datetime\n",
    "import plotly.express as px\n",
    "import plotly.graph_objects as go\n",
    "\n",
    "# !pip install wget\n",
    "# import wget\n",
    "import logging\n",
    "\n",
    "import torch\n",
    "import pandas as pd\n",
    "import numpy as np\n",
    "import csv\n",
    "import os\n",
    "import scipy.sparse as sp\n",
    "from typing import Tuple, Dict, Any, List\n",
    "from tqdm import tqdm, trange\n",
    "from IPython import embed\n",
    "from torch.utils.data import DataLoader, Dataset\n",
    "from torch.utils.tensorboard import SummaryWriter\n",
    "import sys \n",
    "\n",
    "sampling_method = \"FM_RND_POP\"\n",
    "\n",
    "if not os.getcwd().split(os.sep)[-1] == \"Implementation\":\n",
    "    os.chdir(\"..\")\n",
    "execution_path = os.getcwd()\n",
    "execution_path"
   ]
  },
  {
   "cell_type": "code",
   "execution_count": 3,
   "metadata": {},
   "outputs": [],
   "source": [
    "%load_ext tensorboard\n",
    "\n",
    "logs_base_dir = \"runs_\"+sampling_method\n",
    "os.environ[\"run_tensorboard\"] = logs_base_dir\n",
    "\n",
    "os.makedirs(f'{execution_path}/{\"4_Modelling\"}/{logs_base_dir}', exist_ok=True)\n",
    "tb_fm = SummaryWriter(log_dir=f'{execution_path}/{\"4_Modelling\"}/{logs_base_dir}/{logs_base_dir}_FM/')\n",
    "tb_rnd = SummaryWriter(log_dir=f'{execution_path}/{\"4_Modelling\"}/{logs_base_dir}/{logs_base_dir}_RANDOM/')\n",
    "\n",
    "def save_data_configuration(text):\n",
    "    save_data_dir = \"data_config_\" + sampling_method +\".txt\" \n",
    "    path = f'{execution_path}/{\"4_Modelling\"}/{save_data_dir}'\n",
    "    with open(path, \"a\") as data_file:\n",
    "        data_file.write(text+\"\\n\")\n",
    "\n",
    "    return text"
   ]
  },
  {
   "cell_type": "code",
   "execution_count": 4,
   "metadata": {},
   "outputs": [],
   "source": [
    "# Let's define some hyper-parameters\n",
    "hparams = {\n",
    "    'batch_size':64,\n",
    "    'num_epochs':12,\n",
    "    'hidden_size': 32,\n",
    "    'learning_rate':1e-4,\n",
    "}\n",
    "\n",
    "# we select to work on GPU if it is available in the machine, otherwise\n",
    "# will run on CPU\n",
    "device = torch.device('cuda') if torch.cuda.is_available() else torch.device('cpu')"
   ]
  },
  {
   "cell_type": "code",
   "execution_count": 5,
   "metadata": {},
   "outputs": [],
   "source": [
    "#============ Definicion de valores de configuracion ============#\n",
    "\n",
    "min_reviews, min_usuarios = [6,6]\n",
    "col_names = {\"col_id_reviewer\": \"reviewerID\",\n",
    "             \"col_id_product\": \"asin\",\n",
    "             \"col_rating\": \"overall\",\n",
    "             \"col_unix_time\": \"unixReviewTime\",\n",
    "             \"col_timestamp\": \"timestamp\",\n",
    "             \"col_year\": \"year\"}\n",
    "\n",
    "csv_filename = execution_path/Path(\"3_DataPreparation/interactions_minR{}_minU{}.csv\".format(min_reviews,min_usuarios))"
   ]
  },
  {
   "cell_type": "code",
   "execution_count": 6,
   "metadata": {},
   "outputs": [
    {
     "data": {
      "text/html": [
       "<div>\n",
       "<style scoped>\n",
       "    .dataframe tbody tr th:only-of-type {\n",
       "        vertical-align: middle;\n",
       "    }\n",
       "\n",
       "    .dataframe tbody tr th {\n",
       "        vertical-align: top;\n",
       "    }\n",
       "\n",
       "    .dataframe thead th {\n",
       "        text-align: right;\n",
       "    }\n",
       "</style>\n",
       "<table border=\"1\" class=\"dataframe\">\n",
       "  <thead>\n",
       "    <tr style=\"text-align: right;\">\n",
       "      <th></th>\n",
       "      <th>asin</th>\n",
       "      <th>reviewerID</th>\n",
       "      <th>overall</th>\n",
       "      <th>unixReviewTime</th>\n",
       "      <th>timestamp</th>\n",
       "      <th>year</th>\n",
       "    </tr>\n",
       "  </thead>\n",
       "  <tbody>\n",
       "    <tr>\n",
       "      <th>0</th>\n",
       "      <td>0</td>\n",
       "      <td>9132</td>\n",
       "      <td>5.0</td>\n",
       "      <td>1477785600</td>\n",
       "      <td>2016-10-30 02:00:00</td>\n",
       "      <td>1970</td>\n",
       "    </tr>\n",
       "    <tr>\n",
       "      <th>1</th>\n",
       "      <td>0</td>\n",
       "      <td>10612</td>\n",
       "      <td>5.0</td>\n",
       "      <td>1467244800</td>\n",
       "      <td>2016-06-30 02:00:00</td>\n",
       "      <td>1970</td>\n",
       "    </tr>\n",
       "    <tr>\n",
       "      <th>2</th>\n",
       "      <td>0</td>\n",
       "      <td>257</td>\n",
       "      <td>1.0</td>\n",
       "      <td>1454716800</td>\n",
       "      <td>2016-02-06 01:00:00</td>\n",
       "      <td>1970</td>\n",
       "    </tr>\n",
       "    <tr>\n",
       "      <th>3</th>\n",
       "      <td>0</td>\n",
       "      <td>4425</td>\n",
       "      <td>5.0</td>\n",
       "      <td>1434844800</td>\n",
       "      <td>2015-06-21 02:00:00</td>\n",
       "      <td>1970</td>\n",
       "    </tr>\n",
       "    <tr>\n",
       "      <th>4</th>\n",
       "      <td>0</td>\n",
       "      <td>2523</td>\n",
       "      <td>4.0</td>\n",
       "      <td>1420329600</td>\n",
       "      <td>2015-01-04 01:00:00</td>\n",
       "      <td>1970</td>\n",
       "    </tr>\n",
       "  </tbody>\n",
       "</table>\n",
       "</div>"
      ],
      "text/plain": [
       "   asin  reviewerID  overall  unixReviewTime            timestamp  year\n",
       "0     0        9132      5.0      1477785600  2016-10-30 02:00:00  1970\n",
       "1     0       10612      5.0      1467244800  2016-06-30 02:00:00  1970\n",
       "2     0         257      1.0      1454716800  2016-02-06 01:00:00  1970\n",
       "3     0        4425      5.0      1434844800  2015-06-21 02:00:00  1970\n",
       "4     0        2523      4.0      1420329600  2015-01-04 01:00:00  1970"
      ]
     },
     "execution_count": 6,
     "metadata": {},
     "output_type": "execute_result"
    }
   ],
   "source": [
    "df = pd.read_csv(csv_filename)\n",
    "df.head()"
   ]
  },
  {
   "cell_type": "code",
   "execution_count": 7,
   "metadata": {},
   "outputs": [
    {
     "data": {
      "text/plain": [
       "asin               6178\n",
       "reviewerID        14138\n",
       "overall               5\n",
       "unixReviewTime     3622\n",
       "timestamp          3622\n",
       "year                  1\n",
       "dtype: int64"
      ]
     },
     "execution_count": 7,
     "metadata": {},
     "output_type": "execute_result"
    }
   ],
   "source": [
    "save_data_configuration(str(df.nunique()))\n",
    "df.nunique()"
   ]
  },
  {
   "attachments": {},
   "cell_type": "markdown",
   "metadata": {},
   "source": [
    "# Splitting dataset (TLOO strategy)"
   ]
  },
  {
   "cell_type": "code",
   "execution_count": 8,
   "metadata": {},
   "outputs": [],
   "source": [
    "def split_train_test(data: np.ndarray,\n",
    "                     n_users: int) -> Tuple[np.ndarray, np.ndarray]:\n",
    "    # Split and remove timestamp\n",
    "    train_x, test_x = [], []\n",
    "    for u in trange(n_users, desc='spliting train/test and removing timestamp...'):\n",
    "        user_data = data[data[:, 0] == u]\n",
    "        sorted_data = user_data[user_data[:, -1].argsort()]\n",
    "        if len(sorted_data) == 1:\n",
    "            train_x.append(sorted_data[0][:-1])\n",
    "        else:\n",
    "            train_x.append(sorted_data[:-1][:, :-1])\n",
    "            test_x.append(sorted_data[-1][:-1])\n",
    "    return np.vstack(train_x), np.stack(test_x)"
   ]
  },
  {
   "cell_type": "code",
   "execution_count": 9,
   "metadata": {},
   "outputs": [
    {
     "name": "stdout",
     "output_type": "stream",
     "text": [
      "14137\n",
      "6177\n"
     ]
    },
    {
     "data": {
      "text/plain": [
       "array([[      9132,          0,          5, 1477785600],\n",
       "       [     10612,          0,          5, 1467244800],\n",
       "       [       257,          0,          1, 1454716800],\n",
       "       ...,\n",
       "       [      9051,       6177,          5, 1530144000],\n",
       "       [      3412,       6177,          5, 1527465600],\n",
       "       [      9805,       6177,          5, 1527206400]])"
      ]
     },
     "execution_count": 9,
     "metadata": {},
     "output_type": "execute_result"
    }
   ],
   "source": [
    "# data = df[[*col_names.values()][:3]].astype('int32').to_numpy()\n",
    "data = df[[*col_names.values()][:4]].astype('int32').to_numpy()\n",
    "print(max(data[:,0]))\n",
    "print(max(data[:,1]))\n",
    "data"
   ]
  },
  {
   "cell_type": "code",
   "execution_count": 10,
   "metadata": {},
   "outputs": [
    {
     "name": "stdout",
     "output_type": "stream",
     "text": [
      "Dim of users: 14138\n",
      "Dim of items: 20316\n",
      "Dims of unixtime: 6\n"
     ]
    },
    {
     "data": {
      "text/plain": [
       "array([[      9132,      14138,          5, 1477785600],\n",
       "       [     10612,      14138,          5, 1467244800],\n",
       "       [       257,      14138,          1, 1454716800],\n",
       "       ...,\n",
       "       [      9051,      20315,          5, 1530144000],\n",
       "       [      3412,      20315,          5, 1527465600],\n",
       "       [      9805,      20315,          5, 1527206400]])"
      ]
     },
     "execution_count": 10,
     "metadata": {},
     "output_type": "execute_result"
    }
   ],
   "source": [
    "add_dims=0\n",
    "for i in range(data.shape[1] - 2):  # do not affect to timestamp and rating // origin::: for i in range(data.shape[1] - 1)\n",
    "    # MAKE IT START BY 0\n",
    "    data[:, i] -= np.min(data[:, i])\n",
    "    # RE-INDEX\n",
    "    data[:, i] += add_dims\n",
    "    add_dims = np.max(data[:, i]) + 1\n",
    "dims = np.max(data, axis=0) + 1\n",
    "print(\"Dim of users: {}\\nDim of items: {}\\nDims of unixtime: {}\".format(dims[0], dims[1], dims[2]))\n",
    "data"
   ]
  },
  {
   "cell_type": "code",
   "execution_count": 11,
   "metadata": {},
   "outputs": [
    {
     "data": {
      "text/plain": [
       "137364"
      ]
     },
     "execution_count": 11,
     "metadata": {},
     "output_type": "execute_result"
    }
   ],
   "source": [
    "len(data[:,1])"
   ]
  },
  {
   "cell_type": "code",
   "execution_count": 12,
   "metadata": {},
   "outputs": [
    {
     "data": {
      "text/plain": [
       "20315"
      ]
     },
     "execution_count": 12,
     "metadata": {},
     "output_type": "execute_result"
    }
   ],
   "source": [
    "max(data[:,1])"
   ]
  },
  {
   "cell_type": "code",
   "execution_count": 13,
   "metadata": {},
   "outputs": [
    {
     "name": "stdout",
     "output_type": "stream",
     "text": [
      "[14137, 20315, 5]\n"
     ]
    },
    {
     "data": {
      "text/plain": [
       "array([     14138,      20316,          6, 1538006401])"
      ]
     },
     "execution_count": 13,
     "metadata": {},
     "output_type": "execute_result"
    }
   ],
   "source": [
    "cols = [0,1,2]\n",
    "print([max(data[:,col]) for col in cols])\n",
    "dims"
   ]
  },
  {
   "cell_type": "code",
   "execution_count": 14,
   "metadata": {},
   "outputs": [
    {
     "name": "stderr",
     "output_type": "stream",
     "text": [
      "spliting train/test and removing timestamp...: 100%|██████████| 14138/14138 [00:05<00:00, 2614.73it/s]\n"
     ]
    },
    {
     "data": {
      "text/plain": [
       "array([[    0, 19248,     5],\n",
       "       [    0, 19249,     5],\n",
       "       [    0, 14823,     4],\n",
       "       ...,\n",
       "       [14137, 14159,     5],\n",
       "       [14137, 18245,     5],\n",
       "       [14137, 18904,     5]])"
      ]
     },
     "execution_count": 14,
     "metadata": {},
     "output_type": "execute_result"
    }
   ],
   "source": [
    "train_x, test_x = split_train_test(data, dims[0])\n",
    "train_x"
   ]
  },
  {
   "attachments": {},
   "cell_type": "markdown",
   "metadata": {},
   "source": [
    "# Negative sampling"
   ]
  },
  {
   "cell_type": "code",
   "execution_count": 15,
   "metadata": {},
   "outputs": [
    {
     "name": "stdout",
     "output_type": "stream",
     "text": [
      "(14138, 3)\n"
     ]
    },
    {
     "data": {
      "text/plain": [
       "array([[    0, 17249,     5],\n",
       "       [    1, 18015,     5],\n",
       "       [    2, 14196,     4],\n",
       "       ...,\n",
       "       [14135, 19938,     5],\n",
       "       [14136, 20214,     2],\n",
       "       [14137, 15542,     3]])"
      ]
     },
     "execution_count": 15,
     "metadata": {},
     "output_type": "execute_result"
    }
   ],
   "source": [
    "print(test_x.shape)\n",
    "test_x"
   ]
  },
  {
   "cell_type": "code",
   "execution_count": 16,
   "metadata": {},
   "outputs": [
    {
     "name": "stdout",
     "output_type": "stream",
     "text": [
      "New dims: [14138 20316]\n",
      "New train_x:\n",
      " [[    0 19248     5]\n",
      " [    0 19249     5]\n",
      " [    0 14823     4]\n",
      " ...\n",
      " [14137 14159     5]\n",
      " [14137 18245     5]\n",
      " [14137 18904     5]]\n"
     ]
    }
   ],
   "source": [
    "# train_x = train_x[:, :2] # quitar el rating\n",
    "dims = dims[:2]\n",
    "print(\"New dims:\",dims)\n",
    "print(\"New train_x:\\n\",train_x)"
   ]
  },
  {
   "cell_type": "code",
   "execution_count": 17,
   "metadata": {},
   "outputs": [],
   "source": [
    "def build_adj_mx(n_feat:int, data:np.ndarray) -> sp.dok_matrix :\n",
    "    train_mat = sp.dok_matrix((n_feat, n_feat), dtype=np.float32)\n",
    "    for x in tqdm(data, desc=f\"BUILDING ADJACENCY MATRIX...\"):\n",
    "        train_mat[x[0], x[1]] = 1.0\n",
    "        train_mat[x[1], x[0]] = 1.0\n",
    "        # IDEA: We treat features that are not user or item differently because we do not consider\n",
    "        #  interactions between contexts\n",
    "        if data.shape[1] > 2:\n",
    "            for idx in range(len(x[2:])):\n",
    "                train_mat[x[0], x[2 + idx]] = 1.0\n",
    "                train_mat[x[1], x[2 + idx]] = 1.0\n",
    "                train_mat[x[2 + idx], x[0]] = 1.0\n",
    "                train_mat[x[2 + idx], x[1]] = 1.0\n",
    "    return train_mat"
   ]
  },
  {
   "cell_type": "code",
   "execution_count": 18,
   "metadata": {},
   "outputs": [],
   "source": [
    "def ng_sample(data: np.ndarray, dims: list, num_ng:int=4) -> Tuple[np.ndarray, sp.dok_matrix]:\n",
    "    rating_mat = build_adj_mx(dims[-1], data)\n",
    "    interactions = []\n",
    "    min_item, max_item = dims[0], dims[1]\n",
    "    for num, x in tqdm(enumerate(data), desc='perform negative sampling...'):\n",
    "        interactions.append(np.append(x, 1))\n",
    "        for t in range(num_ng):\n",
    "            j = np.random.randint(min_item, max_item) #if not pop else random.sample(items_to_sample, 1)[0]\n",
    "            # IDEA: Loop to exclude true interactions (set to 1 in adj_train) user - item\n",
    "            while (x[0], j) in rating_mat or j == int(x[1]):\n",
    "                j = np.random.randint(min_item, max_item) #if not pop else random.sample(items_to_sample, 1)[0]\n",
    "            interactions.append(np.concatenate([[x[0], j], x[2:], [0]]))\n",
    "    return np.vstack(interactions), rating_mat\n"
   ]
  },
  {
   "cell_type": "code",
   "execution_count": 19,
   "metadata": {},
   "outputs": [
    {
     "name": "stderr",
     "output_type": "stream",
     "text": [
      "spliting train/test and removing timestamp...: 100%|██████████| 14138/14138 [00:04<00:00, 2846.17it/s]\n"
     ]
    },
    {
     "data": {
      "text/plain": [
       "array([4766, 4386,  388, ..., 5361, 4987, 2503])"
      ]
     },
     "execution_count": 19,
     "metadata": {},
     "output_type": "execute_result"
    }
   ],
   "source": [
    "from scipy.stats import rankdata\n",
    "\n",
    "def get_popularity_recommendations(train_x, dims):\n",
    "  \"\"\"\n",
    "  https://github.com/LaxmiChaudhary/Amzon-Product-Recommendation/blob/master/Recommendation%20System.ipynb\n",
    "  \"\"\"\n",
    "  # train_data_sort = pd.DataFrame(train_x, columns=list(col_names.values())[:3]).sort_values(col_names['col_rating'], ascending=False)\n",
    "  # train_data_sort['rank'] = train_data_sort[col_names['col_id_product']].rank(ascending=0, method='first')\n",
    "  # pop_rec = train_data_sort[col_names['col_id_product']].drop_duplicates().to_numpy()\n",
    "  train_x_rank = np.insert(np.array(train_x), train_x.shape[1], rankdata(train_x[:,-1]), 1)\n",
    "  pop_rec = train_x[train_x_rank[:,-1].argsort()[::-1]][:,1]- dims[0]\n",
    "  pop_rec = [i for n, i in enumerate(pop_rec) if i not in pop_rec[:n]] \n",
    "  \n",
    "  return np.hstack(pop_rec)\n",
    "a, b = split_train_test(data, dims[0])\n",
    "popularity_recommendations = get_popularity_recommendations(a, dims)\n",
    "popularity_recommendations"
   ]
  },
  {
   "cell_type": "code",
   "execution_count": 20,
   "metadata": {},
   "outputs": [
    {
     "name": "stderr",
     "output_type": "stream",
     "text": [
      "BUILDING ADJACENCY MATRIX...: 100%|██████████| 123226/123226 [00:09<00:00, 12751.01it/s]\n",
      "perform negative sampling...: 123226it [00:05, 21856.63it/s]\n"
     ]
    },
    {
     "name": "stdout",
     "output_type": "stream",
     "text": [
      "Dimensions matrix:\n",
      " [14138 20316]\n",
      "\n",
      "Rating matrix:\n"
     ]
    },
    {
     "data": {
      "text/plain": [
       "<20316x20316 sparse matrix of type '<class 'numpy.float32'>'\n",
       "\twith 347600 stored elements in Dictionary Of Keys format>"
      ]
     },
     "execution_count": 20,
     "metadata": {},
     "output_type": "execute_result"
    }
   ],
   "source": [
    "train_x, rating_mat = ng_sample(train_x, dims)\n",
    "print(\"Dimensions matrix:\\n\",dims)\n",
    "print(\"\\nRating matrix:\")\n",
    "rating_mat"
   ]
  },
  {
   "cell_type": "code",
   "execution_count": 21,
   "metadata": {},
   "outputs": [
    {
     "data": {
      "text/plain": [
       "6178"
      ]
     },
     "execution_count": 21,
     "metadata": {},
     "output_type": "execute_result"
    }
   ],
   "source": [
    "dims[-1]-dims[0]"
   ]
  },
  {
   "cell_type": "code",
   "execution_count": 22,
   "metadata": {},
   "outputs": [
    {
     "name": "stdout",
     "output_type": "stream",
     "text": [
      "0.0008421769667914019\n",
      "0.9991578230332085\n"
     ]
    }
   ],
   "source": [
    "# Exercise 2\n",
    "\n",
    "## Evaristo\n",
    "#### number of ones\n",
    "print(np.count_nonzero(rating_mat.toarray())/(dims[-1]*dims[-1]))\n",
    "### number of zeros\n",
    "print(1 - np.count_nonzero(rating_mat.toarray())/(dims[-1]*dims[-1]))\n",
    "\n",
    "# ## Brenda\n",
    "# #### Who sparse is the matrix??\n",
    "# print(1 - rating_mat.shape[0] / rating_mat.count_nonzero())"
   ]
  },
  {
   "cell_type": "code",
   "execution_count": 23,
   "metadata": {},
   "outputs": [],
   "source": [
    "train_x = train_x[:,[0,1,-1]]"
   ]
  },
  {
   "cell_type": "code",
   "execution_count": 24,
   "metadata": {},
   "outputs": [
    {
     "data": {
      "text/plain": [
       "array([[    0, 19248,     1],\n",
       "       [    0, 18257,     0],\n",
       "       [    0, 16371,     0],\n",
       "       [    0, 16658,     0],\n",
       "       [    0, 16573,     0],\n",
       "       [    0, 19249,     1],\n",
       "       [    0, 19460,     0],\n",
       "       [    0, 19265,     0],\n",
       "       [    0, 15288,     0],\n",
       "       [    0, 17174,     0]])"
      ]
     },
     "execution_count": 24,
     "metadata": {},
     "output_type": "execute_result"
    }
   ],
   "source": [
    "train_x[:10]"
   ]
  },
  {
   "attachments": {},
   "cell_type": "markdown",
   "metadata": {},
   "source": [
    "# Creating dataset class"
   ]
  },
  {
   "cell_type": "code",
   "execution_count": 25,
   "metadata": {},
   "outputs": [],
   "source": [
    "class PointData(Dataset):\n",
    "    def __init__(self,\n",
    "                 data: np.ndarray,\n",
    "                 dims: list) -> None:\n",
    "        \"\"\"\n",
    "        Dataset formatter adapted point-wise algorithms\n",
    "        Parameters\n",
    "        \"\"\"\n",
    "        super(PointData, self).__init__()\n",
    "        self.interactions = data\n",
    "        self.dims = dims\n",
    "\n",
    "    def __len__(self) -> int:\n",
    "        return len(self.interactions)\n",
    "        \n",
    "    def __getitem__(self, \n",
    "                    index: torch.Tensor) -> Tuple[torch.Tensor, torch.Tensor]:\n",
    "        \"\"\"\n",
    "        Return the pairs user-item and the target.\n",
    "        \"\"\"\n",
    "        return self.interactions[index][:-1], self.interactions[index][-1]\n",
    "\n",
    "train_dataset = PointData(train_x, dims)"
   ]
  },
  {
   "cell_type": "code",
   "execution_count": 26,
   "metadata": {},
   "outputs": [
    {
     "data": {
      "text/plain": [
       "(array([    0, 19248]), 1)"
      ]
     },
     "execution_count": 26,
     "metadata": {},
     "output_type": "execute_result"
    }
   ],
   "source": [
    "train_dataset[0]"
   ]
  },
  {
   "attachments": {},
   "cell_type": "markdown",
   "metadata": {},
   "source": [
    "# Preparing the test set for inference"
   ]
  },
  {
   "cell_type": "code",
   "execution_count": 27,
   "metadata": {},
   "outputs": [
    {
     "data": {
      "text/plain": [
       "array([[    0, 17249,     5],\n",
       "       [    1, 18015,     5],\n",
       "       [    2, 14196,     4],\n",
       "       ...,\n",
       "       [14135, 19938,     5],\n",
       "       [14136, 20214,     2],\n",
       "       [14137, 15542,     3]])"
      ]
     },
     "execution_count": 27,
     "metadata": {},
     "output_type": "execute_result"
    }
   ],
   "source": [
    "test_x"
   ]
  },
  {
   "cell_type": "code",
   "execution_count": 28,
   "metadata": {},
   "outputs": [
    {
     "name": "stdout",
     "output_type": "stream",
     "text": [
      "(20316, 20316)\n",
      "rating_mat contains log2(rating_mat.shape[0]) = 15 bits\n"
     ]
    }
   ],
   "source": [
    "import math\n",
    "print(rating_mat.shape)\n",
    "bits = math.ceil(math.log(rating_mat.shape[0],2))\n",
    "print(\"rating_mat contains log2(rating_mat.shape[0]) = {} bits\".format(bits))"
   ]
  },
  {
   "cell_type": "code",
   "execution_count": 29,
   "metadata": {},
   "outputs": [],
   "source": [
    "def create_test_no_interactions(train_x: np.ndarray, test_x: np.ndarray, dims_usuarios_productos: Tuple[int, int],  num_samples: int) -> np.ndarray:\n",
    "    \"\"\"\n",
    "    Esta funcion se encarga de crear de manera eficiente un dataset que contenga las interacciones usuario-producto en test que no se hayan producido.\n",
    "    \n",
    "    Argumentos:\n",
    "        train_x (np.ndarray): matriz de entrenamiento con las interacciones usuario-producto previas\n",
    "        test_x (np.ndarray): matriz de prueba con las interacciones usuario-producto previas\n",
    "        dims_usuarios_productos (Tuple[int, int]): rango de productos y usuarios disponibles\n",
    "    \n",
    "    Retorno:\n",
    "        np.ndarray: una matriz con todas las interacciones usuario-producto en test que no se hayan producido\n",
    "    \"\"\"\n",
    "    from tqdm import tqdm\n",
    "    import random\n",
    "    \n",
    "    # Identificamos los usuarios presentes en la prueba\n",
    "    usuarios_test = np.unique(test_x[:, 0])\n",
    "    # Identificamos el rango de productos disponibles\n",
    "    total_productos = range(dims_usuarios_productos[0]-1, dims_usuarios_productos[1])\n",
    "    \n",
    "    # Recorremos cada usuario presente en la prueba\n",
    "    for usuario in tqdm(usuarios_test):\n",
    "        # Identificamos los productos en los que el usuario ha interactuado previamente en entrenamiento\n",
    "        productos_train = np.unique(train_x[train_x[:, 0] == usuario][:, 1])\n",
    "        # Seleccionamos al azar 199 productos con los que el usuario no ha interactuado previamente\n",
    "        productos_a_machear = random.choices(list(set(total_productos) - set(productos_train)), k=num_samples)\n",
    "        # Creamos una lista de interacciones usuario-producto para este usuario\n",
    "        # lista_por_usuario = [[usuario, x] for x in productos_a_machear]\n",
    "        # We must avoid using for loops!\n",
    "        lista_por_usuario = np.vstack([(np.ones(len(productos_a_machear))*usuario).astype(int), productos_a_machear]).T\n",
    "        \n",
    "        # Si es el primer usuario, inicializamos una matriz con sus interacciones\n",
    "        if usuario == 0:\n",
    "            zero_positions = lista_por_usuario\n",
    "        # Si no es el primer usuario, concatenamos sus interacciones a la matriz existente\n",
    "        else:\n",
    "            zero_positions = np.concatenate((zero_positions, lista_por_usuario), axis=0)\n",
    "            \n",
    "    return zero_positions"
   ]
  },
  {
   "cell_type": "code",
   "execution_count": 30,
   "metadata": {},
   "outputs": [],
   "source": [
    "def ng_test(rating_mat):\n",
    "    # save_data_configuration(\"\\n\"+\"#\"*4+\"  zero_positions: all data  \"+\"#\"*4)\n",
    "    # return np.asarray(np.where(rating_mat.A==0)).T\n",
    "    zero_true_matrix = np.where(rating_mat.A==0)\n",
    "    save_data_configuration(\"\\n\"+\"#\"*4+\"  zero_positions: all data separated by rows  \"+\"#\"*4)\n",
    "    return np.asarray([zero_true_matrix[0],zero_true_matrix[1]]).T"
   ]
  },
  {
   "cell_type": "code",
   "execution_count": 31,
   "metadata": {},
   "outputs": [
    {
     "name": "stdout",
     "output_type": "stream",
     "text": [
      "(412392256, 2)\n",
      "\n"
     ]
    },
    {
     "data": {
      "text/plain": [
       "array([[    0,     0],\n",
       "       [    0,     1],\n",
       "       [    0,     2],\n",
       "       ...,\n",
       "       [20315, 20313],\n",
       "       [20315, 20314],\n",
       "       [20315, 20315]], dtype=int64)"
      ]
     },
     "execution_count": 31,
     "metadata": {},
     "output_type": "execute_result"
    }
   ],
   "source": [
    "# zero_positions = np.asarray(np.where(rating_mat.A==0)).T\n",
    "zero_positions = ng_test(rating_mat)\n",
    "print(save_data_configuration(str(zero_positions.shape)+\"\\n\"))\n",
    "zero_positions"
   ]
  },
  {
   "cell_type": "code",
   "execution_count": 32,
   "metadata": {},
   "outputs": [
    {
     "name": "stdout",
     "output_type": "stream",
     "text": [
      "           i\n",
      "u           \n",
      "0      14138\n",
      "0      14139\n",
      "0      14140\n",
      "0      14141\n",
      "0      14142\n",
      "...      ...\n",
      "20315  20311\n",
      "20315  20312\n",
      "20315  20313\n",
      "20315  20314\n",
      "20315  20315\n",
      "\n",
      "[125370541 rows x 1 columns]\n",
      "(125370541, 1)\n"
     ]
    },
    {
     "name": "stderr",
     "output_type": "stream",
     "text": [
      "100%|██████████| 20316/20316 [02:19<00:00, 145.70it/s]\n"
     ]
    }
   ],
   "source": [
    "import time\n",
    "def items_to_compute(zero_positions, dims):\n",
    "\n",
    "    # LAB\n",
    "    # items2compute = []\n",
    "    # for user in trange(dims[0]):\n",
    "    #     aux = zero_positions[zero_positions[:, 0] == user][:, 1]\n",
    "    #     items2compute.append(aux[aux >= dims[0]])\n",
    "    # items2compute[0]\n",
    "\n",
    "    # # ANTONIO\n",
    "    # mask = zero_positions[:, 1] >= dims[0]\n",
    "    # # Seleccionar los valores de la columna 1 que cumplen la condición\n",
    "    # zero_positions = zero_positions[mask]\n",
    "    # # Supongamos que el array se llama 'arr'\n",
    "    # usuarios = zero_positions[:, 0]\n",
    "    # lista_longitud_zeros = np.bincount(usuarios, minlength=len(set(usuarios)))\n",
    "    # # Crear lista de sublistas vacías de acuerdo a la lista de longitudes\n",
    "    # list_of_lists = [list() for i in range(len(lista_longitud_zeros))]\n",
    "    # for i, length in enumerate(lista_longitud_zeros):\n",
    "    #     # Agregar ceros a cada sublista\n",
    "    #     list_of_lists[i] = [0]*length\n",
    "    # # Convertir lista de sublistas a un array de NumPy\n",
    "    # items2compute = np.array([np.array(x) for x in list_of_lists])\n",
    "    # for user in trange(dims[0]):\n",
    "    #     aux = zero_positions[zero_positions[:, 0] == user][:, 1]\n",
    "    #     # Asignar los elementos necesarios a cada usuario\n",
    "    #     items2compute[user] = aux.copy()\n",
    "    #     # 3%|▎         | 421/14138 [03:01<1:38:46,  2.31it/s]\n",
    "\n",
    "    # JOAN\n",
    "    # items2compute = []\n",
    "    # items_zero_per_user = []\n",
    "    # for user in trange(dims[0]):\n",
    "    #     aux1 = rating_mat[user, (dims[0]+1):]        \n",
    "    #     items_zero_per_user = np.where(aux1.A==0)  # devuelve los indices\n",
    "    #     aux = items_zero_per_user[:] + (dims[0]+1) # le sumamos la dimension para ubicar correctamente la columna\n",
    "    #     aux = aux[1]\n",
    "    #     # lista items del user en train del mismo usuario que tengan rating 0 ó 1\n",
    "    #     items_train_user = train_x[train_x[:,0]==user][:,1]\n",
    "    #     # los retiramos del test (los 1 como no existen no se retiran, solo eliminan los 0)\n",
    "    #     aux = list(set(aux) - set(items_train_user))\n",
    "    #     items2compute.append(sorted(aux)) # añadimos los valores de item\n",
    "\n",
    "    # BRENDA\n",
    "    zp_df = pd.DataFrame(zero_positions[zero_positions[:, 1] >= dims[0]], columns=['u','i'])\n",
    "    zp_df_index_u = zp_df.set_index(['u']) # 55 seg\n",
    "    users = np.unique(zero_positions[:,0]) # 50 seg\n",
    "    print(zp_df_index_u)\n",
    "    print(zp_df_index_u.shape)\n",
    "\n",
    "    items2compute = list(list() for _ in users)\n",
    "    for i in trange(len(users)):\n",
    "        items2compute[i] = np.hstack(zp_df_index_u.loc[i].to_numpy())\n",
    "    # 100%|██████████| 20316/20316 [02:44<00:00, 123.50it/s]\n",
    "\n",
    "    return items2compute\n",
    "\n",
    "items2compute = items_to_compute(zero_positions, dims)\n"
   ]
  },
  {
   "cell_type": "code",
   "execution_count": 33,
   "metadata": {},
   "outputs": [
    {
     "data": {
      "text/plain": [
       "array([[    0, 17249,     5],\n",
       "       [    1, 18015,     5],\n",
       "       [    2, 14196,     4],\n",
       "       ...,\n",
       "       [14135, 19938,     5],\n",
       "       [14136, 20214,     2],\n",
       "       [14137, 15542,     3]])"
      ]
     },
     "execution_count": 33,
     "metadata": {},
     "output_type": "execute_result"
    }
   ],
   "source": [
    "test_x"
   ]
  },
  {
   "cell_type": "code",
   "execution_count": 34,
   "metadata": {},
   "outputs": [
    {
     "name": "stderr",
     "output_type": "stream",
     "text": [
      "BUILDING TEST SET...: 14138it [02:16, 103.44it/s]\n"
     ]
    },
    {
     "data": {
      "text/plain": [
       "array([[    0, 17249],\n",
       "       [    0, 14138],\n",
       "       [    0, 14139],\n",
       "       ...,\n",
       "       [    0, 20313],\n",
       "       [    0, 20314],\n",
       "       [    0, 20315]])"
      ]
     },
     "execution_count": 34,
     "metadata": {},
     "output_type": "execute_result"
    }
   ],
   "source": [
    "def build_test_set(itemsnoninteracted:list, gt_test_interactions: np.ndarray) -> list:\n",
    "    #max_users, max_items = dims # number users (943), number items (2625)\n",
    "    test_set = []\n",
    "    for pair, negatives in tqdm(zip(gt_test_interactions, itemsnoninteracted), desc=\"BUILDING TEST SET...\"):\n",
    "        # APPEND TEST SETS FOR SINGLE USER\n",
    "        negatives = np.delete(negatives, np.where(negatives == pair[1]))\n",
    "        single_user_test_set = np.vstack([pair, ] * (len(negatives)+1))\n",
    "        single_user_test_set[:, 1][1:] = negatives\n",
    "        test_set.append(single_user_test_set.copy())\n",
    "    return test_set\n",
    "\n",
    "test_x = build_test_set(items2compute, test_x[:,:2])\n",
    "test_x[0]"
   ]
  },
  {
   "attachments": {},
   "cell_type": "markdown",
   "metadata": {},
   "source": [
    "# Building Factorization Machines model"
   ]
  },
  {
   "cell_type": "code",
   "execution_count": 35,
   "metadata": {},
   "outputs": [],
   "source": [
    "class FM_operation(torch.nn.Module):\n",
    "\n",
    "    def __init__(self, \n",
    "                 reduce_sum: bool=True) -> None:\n",
    "        super().__init__()\n",
    "        self.reduce_sum = reduce_sum\n",
    "\n",
    "    def forward(self,\n",
    "                x: torch.Tensor) -> float:\n",
    "        \"\"\"\n",
    "        :param x: Float tensor of size ``(batch_size, num_fields, embed_dim)``\n",
    "        \"\"\"\n",
    "        # square_of_sum = np.sum(x, dim=1) ** 2 # ...\n",
    "        # sum_of_square = np.sum(x ** 2, dim=1) # ...\n",
    "        \n",
    "        square_of_sum = torch.pow(torch.sum(x, dim=1),2)\n",
    "        sum_of_square = torch.sum(torch.pow(x,2), dim=1)\n",
    "        ix = square_of_sum - sum_of_square\n",
    "        if self.reduce_sum:\n",
    "            ix = torch.sum(ix, dim=1, keepdim=True)\n",
    "        return 0.5 * ix\n",
    "        "
   ]
  },
  {
   "cell_type": "code",
   "execution_count": 36,
   "metadata": {},
   "outputs": [],
   "source": [
    "class FactorizationMachineModel(torch.nn.Module):\n",
    "    \"\"\"\n",
    "    A pytorch implementation of Factorization Machine.\n",
    "\n",
    "    Reference:\n",
    "        S Rendle, Factorization Machines, 2010.\n",
    "    \"\"\"\n",
    "\n",
    "    def __init__(self, \n",
    "                 field_dims: list,\n",
    "                 embed_dim: float) -> None:\n",
    "        super().__init__()\n",
    "        self.linear = torch.nn.Linear(len(field_dims), 1)\n",
    "        self.embedding = torch.nn.Embedding(field_dims[-1], embed_dim)\n",
    "        self.fm = FM_operation(reduce_sum=True)\n",
    "\n",
    "        torch.nn.init.xavier_uniform_(self.embedding.weight.data)\n",
    "\n",
    "    def forward(self, interaction_pairs: torch.Tensor) -> torch.Tensor:\n",
    "        \"\"\"\n",
    "        :param interaction_pairs: Long tensor of size ``(batch_size, num_fields)``\n",
    "        \"\"\"\n",
    "        out = self.linear(interaction_pairs.float()) + self.fm(self.embedding(interaction_pairs))\n",
    "        return out.squeeze(1)\n",
    "        \n",
    "    def predict(self, \n",
    "                interactions: np.ndarray,\n",
    "                device: torch.device) -> torch.Tensor:\n",
    "        # return the score, inputs are numpy arrays, outputs are tensors\n",
    "        test_interactions = torch.from_numpy(interactions).to(dtype=torch.long, device=device) #, dtype=torch.long)\n",
    "        output_scores = self.forward(test_interactions)\n",
    "        return output_scores"
   ]
  },
  {
   "attachments": {},
   "cell_type": "markdown",
   "metadata": {},
   "source": [
    "# Pipeline functions"
   ]
  },
  {
   "attachments": {},
   "cell_type": "markdown",
   "metadata": {},
   "source": [
    "## Training"
   ]
  },
  {
   "cell_type": "code",
   "execution_count": 37,
   "metadata": {},
   "outputs": [],
   "source": [
    "from statistics import mean\n",
    "\n",
    "def train_one_epoch(model: torch.nn.Module,\n",
    "                    optimizer: torch.optim,\n",
    "                    data_loader: torch.utils.data.DataLoader,\n",
    "                    criterion: torch.nn.functional,\n",
    "                    device: torch.device) -> float:\n",
    "    model.train()\n",
    "    total_loss = []\n",
    "\n",
    "    for i, (interactions, targets) in enumerate(data_loader):\n",
    "        interactions = interactions.to(device)\n",
    "        targets = targets.to(device)\n",
    "\n",
    "        predictions = model(interactions[:,:2])\n",
    "    \n",
    "        loss = criterion(predictions, targets.float())\n",
    "        model.zero_grad()\n",
    "        loss.backward()\n",
    "        optimizer.step()\n",
    "        total_loss.append(loss.item())\n",
    "\n",
    "    return mean(total_loss)"
   ]
  },
  {
   "attachments": {},
   "cell_type": "markdown",
   "metadata": {},
   "source": [
    "# Define metrics"
   ]
  },
  {
   "cell_type": "code",
   "execution_count": 38,
   "metadata": {},
   "outputs": [],
   "source": [
    "import math\n",
    "\n",
    "def getHitRatio(recommend_list: list,\n",
    "                gt_item: int) -> bool:\n",
    "    if gt_item in recommend_list:\n",
    "        return 1\n",
    "    else:\n",
    "        return 0\n",
    "\n",
    "def getNDCG(recommend_list: list,\n",
    "            gt_item: int) -> float:\n",
    "    idx = np.where(recommend_list == gt_item)[0]\n",
    "    if len(idx) > 0:\n",
    "        return math.log(2)/math.log(idx+2)\n",
    "    else:\n",
    "        return 0"
   ]
  },
  {
   "attachments": {},
   "cell_type": "markdown",
   "metadata": {},
   "source": [
    "# Inference\n"
   ]
  },
  {
   "cell_type": "code",
   "execution_count": 39,
   "metadata": {},
   "outputs": [],
   "source": [
    "def test(model: torch.nn.Module,\n",
    "         test_x: np.ndarray,\n",
    "         device: torch.device,\n",
    "         topk: int=10) -> Tuple[float, float]:\n",
    "    # Test the HR and NDCG for the model @topK\n",
    "    model.eval()\n",
    "\n",
    "    rcmnd_lst = np.zeros(len(test_x)).tolist()\n",
    "    index = 0\n",
    "\n",
    "    HR, NDCG = [], []\n",
    "    for user_test in test_x:\n",
    "        gt_item = user_test[0][1]\n",
    "        predictions = model.predict(user_test, device)\n",
    "        _, indices = torch.topk(predictions, topk)\n",
    "        recommend_list = user_test[indices.cpu().detach().numpy()][:, 1]\n",
    "        rcmnd_lst[index] = recommend_list.tolist().copy()\n",
    "        index +=1\n",
    "\n",
    "        HR.append(getHitRatio(recommend_list, gt_item))\n",
    "        NDCG.append(getNDCG(recommend_list, gt_item))\n",
    "    return mean(HR), mean(NDCG), rcmnd_lst"
   ]
  },
  {
   "cell_type": "code",
   "execution_count": 40,
   "metadata": {},
   "outputs": [],
   "source": [
    "def test_pop(model: torch.nn.Module,\n",
    "         test_x: np.ndarray,\n",
    "         device: torch.device,\n",
    "         topk: int=10) -> Tuple[float, float]:\n",
    "    # Test the HR and NDCG for the model @topK\n",
    "    model.eval()\n",
    "\n",
    "    rcmnd_lst = np.zeros(len(test_x)).tolist()\n",
    "    index = 0\n",
    "\n",
    "    HR, NDCG = [], []\n",
    "    for user_test in test_x:\n",
    "        gt_item = user_test[0][1]\n",
    "        predictions = model.predict(user_test, device)\n",
    "        # print(predictions)\n",
    "        # _, indices = torch.topk(predictions, topk)\n",
    "        # print(indices)\n",
    "        # print(user_test)\n",
    "        recommend_list = predictions[:topk]\n",
    "        # user_test[indices.cpu().detach().numpy()][:, 1]\n",
    "        # print(recommend_list)\n",
    "        rcmnd_lst[index] = np.hstack(recommend_list.tolist().copy())\n",
    "        index +=1\n",
    "\n",
    "        HR.append(getHitRatio(recommend_list, gt_item))\n",
    "        NDCG.append(getNDCG(recommend_list, gt_item))\n",
    "    return mean(HR), mean(NDCG), rcmnd_lst"
   ]
  },
  {
   "attachments": {},
   "cell_type": "markdown",
   "metadata": {},
   "source": [
    "# PIPELINE\n",
    "## Defining the model, the loss and the optimizer\n",
    "\n"
   ]
  },
  {
   "cell_type": "code",
   "execution_count": 41,
   "metadata": {},
   "outputs": [],
   "source": [
    "dims = train_dataset.dims\n",
    "model = FactorizationMachineModel(dims, hparams['hidden_size']).to(device)\n",
    "\n",
    "criterion = torch.nn.BCEWithLogitsLoss(reduction='mean')\n",
    "optimizer = torch.optim.Adam(params=model.parameters(), lr=hparams['learning_rate'])"
   ]
  },
  {
   "attachments": {},
   "cell_type": "markdown",
   "metadata": {},
   "source": [
    "## Random evaluation"
   ]
  },
  {
   "cell_type": "code",
   "execution_count": 42,
   "metadata": {},
   "outputs": [],
   "source": [
    "import random\n",
    "class RandomModel(torch.nn.Module):\n",
    "    def __init__(self, \n",
    "                 dims: list) -> None:\n",
    "        super(RandomModel, self).__init__()\n",
    "        \"\"\"\n",
    "        Simple random based recommender system\n",
    "        \"\"\"\n",
    "        self.all_items = list(range(dims[0], dims[1]))\n",
    "\n",
    "    def forward(self) -> None:\n",
    "        pass\n",
    "\n",
    "    def predict(self,\n",
    "                interactions: np.ndarray,\n",
    "                device=None) -> torch.Tensor:\n",
    "        return torch.FloatTensor(random.sample(self.all_items, len(interactions)))\n",
    "\n",
    "rnd_model = RandomModel(dims)"
   ]
  },
  {
   "attachments": {},
   "cell_type": "markdown",
   "metadata": {},
   "source": [
    "## Popularity evaluation"
   ]
  },
  {
   "cell_type": "code",
   "execution_count": 43,
   "metadata": {},
   "outputs": [],
   "source": [
    "# Popularity-Based Recommender System\n",
    "class PopularityBasedModel(torch.nn.Module):\n",
    "  \"\"\"\n",
    "  https://github.com/LaxmiChaudhary/Amzon-Product-Recommendation/blob/master/Recommendation%20System.ipynb\n",
    "  The Popularity-based recommender system is a non-personalised recommender system and these are based on frequecy counts, which may be not suitable to the user.\n",
    "  We can see the differance above for the user id 4, 6 & 8, The Popularity based model has recommended the same set of 5 products to both.\n",
    "  \"\"\"\n",
    "  def __init__(self, \n",
    "                 popularity_recommendations) -> None:\n",
    "        super(PopularityBasedModel, self).__init__()\n",
    "        \"\"\"\n",
    "        Simple random based recommender system\n",
    "        \"\"\"\n",
    "        self.popularity_recommendations = popularity_recommendations\n",
    "  \n",
    "  def predict(self,\n",
    "              interactions: np.ndarray,\n",
    "              device=None) -> torch.Tensor:\n",
    "      return torch.IntTensor(self.popularity_recommendations)\n",
    "\n",
    "pop_model = PopularityBasedModel(popularity_recommendations)"
   ]
  },
  {
   "attachments": {},
   "cell_type": "markdown",
   "metadata": {},
   "source": [
    "## Final pipeline"
   ]
  },
  {
   "cell_type": "code",
   "execution_count": 44,
   "metadata": {},
   "outputs": [],
   "source": [
    "data_loader = DataLoader(train_dataset, batch_size=hparams['batch_size'], shuffle=True, num_workers=0)"
   ]
  },
  {
   "attachments": {},
   "cell_type": "markdown",
   "metadata": {},
   "source": [
    "# Start training the model"
   ]
  },
  {
   "cell_type": "code",
   "execution_count": 45,
   "metadata": {},
   "outputs": [
    {
     "name": "stdout",
     "output_type": "stream",
     "text": [
      "MODEL: FACTORIZATION MACHINE\n",
      "epoch 0:\n",
      "training loss = 1415.6487 | Eval: HR@10 = 0.0021, NDCG@10 = 0.0010 \n",
      "MODEL: RANDOM\n",
      "epoch 0:\n",
      "training loss = 1415.6487 | Eval: HR@10 = 0.0016, NDCG@10 = 0.0007 \n",
      "MODEL: POPULARITY-BASED\n",
      "epoch 0:\n",
      "training loss = 1415.6487 | Eval: HR@10 = 0.0000, NDCG@10 = 0.0000 \n",
      "MODEL: FACTORIZATION MACHINE\n",
      "epoch 1:\n",
      "training loss = 10.9236 | Eval: HR@10 = 0.0169, NDCG@10 = 0.0119 \n",
      "MODEL: RANDOM\n",
      "epoch 1:\n",
      "training loss = 10.9236 | Eval: HR@10 = 0.0018, NDCG@10 = 0.0009 \n",
      "MODEL: POPULARITY-BASED\n",
      "epoch 1:\n",
      "training loss = 10.9236 | Eval: HR@10 = 0.0000, NDCG@10 = 0.0000 \n",
      "MODEL: FACTORIZATION MACHINE\n",
      "epoch 2:\n",
      "training loss = 0.5123 | Eval: HR@10 = 0.0255, NDCG@10 = 0.0175 \n",
      "MODEL: RANDOM\n",
      "epoch 2:\n",
      "training loss = 0.5123 | Eval: HR@10 = 0.0014, NDCG@10 = 0.0007 \n",
      "MODEL: POPULARITY-BASED\n",
      "epoch 2:\n",
      "training loss = 0.5123 | Eval: HR@10 = 0.0000, NDCG@10 = 0.0000 \n",
      "MODEL: FACTORIZATION MACHINE\n",
      "epoch 3:\n",
      "training loss = 0.4961 | Eval: HR@10 = 0.0267, NDCG@10 = 0.0188 \n",
      "MODEL: RANDOM\n",
      "epoch 3:\n",
      "training loss = 0.4961 | Eval: HR@10 = 0.0018, NDCG@10 = 0.0008 \n",
      "MODEL: POPULARITY-BASED\n",
      "epoch 3:\n",
      "training loss = 0.4961 | Eval: HR@10 = 0.0000, NDCG@10 = 0.0000 \n",
      "MODEL: FACTORIZATION MACHINE\n",
      "epoch 4:\n",
      "training loss = 0.4743 | Eval: HR@10 = 0.0287, NDCG@10 = 0.0194 \n",
      "MODEL: RANDOM\n",
      "epoch 4:\n",
      "training loss = 0.4743 | Eval: HR@10 = 0.0017, NDCG@10 = 0.0008 \n",
      "MODEL: POPULARITY-BASED\n",
      "epoch 4:\n",
      "training loss = 0.4743 | Eval: HR@10 = 0.0000, NDCG@10 = 0.0000 \n",
      "MODEL: FACTORIZATION MACHINE\n",
      "epoch 5:\n",
      "training loss = 0.4510 | Eval: HR@10 = 0.0277, NDCG@10 = 0.0185 \n",
      "MODEL: RANDOM\n",
      "epoch 5:\n",
      "training loss = 0.4510 | Eval: HR@10 = 0.0014, NDCG@10 = 0.0006 \n",
      "MODEL: POPULARITY-BASED\n",
      "epoch 5:\n",
      "training loss = 0.4510 | Eval: HR@10 = 0.0000, NDCG@10 = 0.0000 \n",
      "MODEL: FACTORIZATION MACHINE\n",
      "epoch 6:\n",
      "training loss = 0.4313 | Eval: HR@10 = 0.0303, NDCG@10 = 0.0196 \n",
      "MODEL: RANDOM\n",
      "epoch 6:\n",
      "training loss = 0.4313 | Eval: HR@10 = 0.0021, NDCG@10 = 0.0008 \n",
      "MODEL: POPULARITY-BASED\n",
      "epoch 6:\n",
      "training loss = 0.4313 | Eval: HR@10 = 0.0000, NDCG@10 = 0.0000 \n",
      "MODEL: FACTORIZATION MACHINE\n",
      "epoch 7:\n",
      "training loss = 0.4163 | Eval: HR@10 = 0.0320, NDCG@10 = 0.0203 \n",
      "MODEL: RANDOM\n",
      "epoch 7:\n",
      "training loss = 0.4163 | Eval: HR@10 = 0.0013, NDCG@10 = 0.0005 \n",
      "MODEL: POPULARITY-BASED\n",
      "epoch 7:\n",
      "training loss = 0.4163 | Eval: HR@10 = 0.0000, NDCG@10 = 0.0000 \n",
      "MODEL: FACTORIZATION MACHINE\n",
      "epoch 8:\n",
      "training loss = 0.4058 | Eval: HR@10 = 0.0335, NDCG@10 = 0.0211 \n",
      "MODEL: RANDOM\n",
      "epoch 8:\n",
      "training loss = 0.4058 | Eval: HR@10 = 0.0021, NDCG@10 = 0.0008 \n",
      "MODEL: POPULARITY-BASED\n",
      "epoch 8:\n",
      "training loss = 0.4058 | Eval: HR@10 = 0.0000, NDCG@10 = 0.0000 \n",
      "MODEL: FACTORIZATION MACHINE\n",
      "epoch 9:\n",
      "training loss = 0.3977 | Eval: HR@10 = 0.0359, NDCG@10 = 0.0226 \n",
      "MODEL: RANDOM\n",
      "epoch 9:\n",
      "training loss = 0.3977 | Eval: HR@10 = 0.0014, NDCG@10 = 0.0006 \n",
      "MODEL: POPULARITY-BASED\n",
      "epoch 9:\n",
      "training loss = 0.3977 | Eval: HR@10 = 0.0000, NDCG@10 = 0.0000 \n",
      "MODEL: FACTORIZATION MACHINE\n",
      "epoch 10:\n",
      "training loss = 0.3944 | Eval: HR@10 = 0.0309, NDCG@10 = 0.0206 \n",
      "MODEL: RANDOM\n",
      "epoch 10:\n",
      "training loss = 0.3944 | Eval: HR@10 = 0.0021, NDCG@10 = 0.0009 \n",
      "MODEL: POPULARITY-BASED\n",
      "epoch 10:\n",
      "training loss = 0.3944 | Eval: HR@10 = 0.0000, NDCG@10 = 0.0000 \n",
      "MODEL: FACTORIZATION MACHINE\n",
      "epoch 11:\n",
      "training loss = 0.3908 | Eval: HR@10 = 0.0370, NDCG@10 = 0.0233 \n",
      "MODEL: RANDOM\n",
      "epoch 11:\n",
      "training loss = 0.3908 | Eval: HR@10 = 0.0018, NDCG@10 = 0.0009 \n",
      "MODEL: POPULARITY-BASED\n",
      "epoch 11:\n",
      "training loss = 0.3908 | Eval: HR@10 = 0.0000, NDCG@10 = 0.0000 \n"
     ]
    },
    {
     "data": {
      "text/plain": [
       "'# Training duration: 2833.8205'"
      ]
     },
     "execution_count": 45,
     "metadata": {},
     "output_type": "execute_result"
    }
   ],
   "source": [
    "# DO EPOCHS NOW\n",
    "from datetime import datetime\n",
    "save_data_configuration(datetime.now().strftime(\"%d-%b-%Y  %H:%M\"))\n",
    "time_start = time.time()\n",
    "topk = 10\n",
    "for epoch_i in range(hparams['num_epochs']):\n",
    "    #data_loader.dataset.negative_sampling()\n",
    "    train_loss = train_one_epoch(model, optimizer, data_loader, criterion, device)\n",
    "    hr, ndcg, recommend_list_fm = test(model, test_x, device, topk=topk)\n",
    "    \n",
    "    print(save_data_configuration(f'MODEL: FACTORIZATION MACHINE'))\n",
    "    print(save_data_configuration(f'epoch {epoch_i}:'))\n",
    "    print(save_data_configuration(f'training loss = {train_loss:.4f} | Eval: HR@{topk} = {hr:.4f}, NDCG@{topk} = {ndcg:.4f} '))\n",
    " \n",
    "    tb_fm.add_scalar('train/loss', train_loss, epoch_i)\n",
    "    tb_fm.add_scalar(f'eval/HR@{topk}', hr, epoch_i)\n",
    "    tb_fm.add_scalar(f'eval/NDCG@{topk}', ndcg, epoch_i)\n",
    "\n",
    "    hr, ndcg, recommend_list_rnd = test(rnd_model, test_x, device, topk=topk)\n",
    "\n",
    "    print(save_data_configuration(f'MODEL: RANDOM'))\n",
    "    print(save_data_configuration(f'epoch {epoch_i}:'))\n",
    "    print(save_data_configuration(f'training loss = {train_loss:.4f} | Eval: HR@{topk} = {hr:.4f}, NDCG@{topk} = {ndcg:.4f} '))\n",
    "    \n",
    "    tb_rnd.add_scalar(f'eval/HR@{topk}', hr, epoch_i)\n",
    "    tb_rnd.add_scalar(f'eval/NDCG@{topk}', ndcg, epoch_i)\n",
    "\n",
    "    hr, ndcg, recommend_list_pop = test_pop(pop_model, test_x, device, topk=topk)\n",
    "    \n",
    "    # save_data_configuration(\"_\"*65)\n",
    "    print(save_data_configuration(f'MODEL: POPULARITY-BASED'))\n",
    "    print(save_data_configuration(f'epoch {epoch_i}:'))\n",
    "    print(save_data_configuration(f'training loss = {train_loss:.4f} | Eval: HR@{topk} = {hr:.4f}, NDCG@{topk} = {ndcg:.4f} '))\n",
    "    save_data_configuration(\"_\"*65)\n",
    " \n",
    "save_data_configuration(f\"# Training duration: {(time.time()-time_start):.4f}\")"
   ]
  },
  {
   "cell_type": "code",
   "execution_count": 54,
   "metadata": {},
   "outputs": [
    {
     "data": {
      "text/plain": [
       "array([[    0, 19248,     1],\n",
       "       [    0, 18257,     0],\n",
       "       [    0, 16371,     0],\n",
       "       [    0, 16658,     0],\n",
       "       [    0, 16573,     0],\n",
       "       [    0, 19249,     1],\n",
       "       [    0, 19460,     0],\n",
       "       [    0, 19265,     0],\n",
       "       [    0, 15288,     0],\n",
       "       [    0, 17174,     0]])"
      ]
     },
     "execution_count": 54,
     "metadata": {},
     "output_type": "execute_result"
    }
   ],
   "source": [
    "train_x[:10]"
   ]
  },
  {
   "cell_type": "code",
   "execution_count": 63,
   "metadata": {},
   "outputs": [
    {
     "data": {
      "text/plain": [
       "array([19969, 19460, 15877, 16390, 16404, 19476, 17435, 19483, 16928,\n",
       "       16416, 14880, 20003, 18469, 16422, 14891, 17452, 14383, 20016,\n",
       "       19005, 18497, 20033, 19523, 20036, 17990, 17479, 20041, 14410,\n",
       "       19532, 14927, 14419, 14420, 16469, 17496, 17497, 15455, 16480,\n",
       "       15967, 15972, 16998, 18026, 18547, 14452, 19066, 16507, 18042,\n",
       "       17530, 14468, 19085, 18575, 16020, 15509, 14488, 17049, 18073,\n",
       "       15516, 18078, 16543, 16035, 15526, 14507, 19115, 16558, 20145,\n",
       "       18098, 18097, 17586, 15034, 16573, 16574, 16070, 18119, 18634,\n",
       "       18123, 15057, 17617, 17621, 16086, 20181, 15586, 15077, 20200,\n",
       "       16618, 19691, 15594, 14576, 14577, 18162, 18678, 14593, 17667,\n",
       "       20233, 16651, 15628, 18701, 18702, 15117, 15632, 16658, 18706,\n",
       "       20244, 18709, 17174, 20246, 15125, 19218, 16158, 18723, 17188,\n",
       "       14628, 19750, 15652, 19248, 19249, 15154, 16177, 17206, 18231,\n",
       "       16694, 16187, 16700, 15165, 15166, 19265, 14658, 18762, 16715,\n",
       "       15692, 14669, 18254, 18256, 18257, 17235, 15189, 14165, 19814,\n",
       "       17766, 17770, 15214, 18287, 19824, 19316, 18814, 14721, 18306,\n",
       "       18310, 19849, 16266, 17809, 14233, 19869, 18335, 14242, 16290,\n",
       "       19369, 18862, 14259, 17845, 15288, 17342, 18878, 17859, 14277,\n",
       "       16331, 17870, 19409, 16855, 16858, 14811, 15327, 18403, 18404,\n",
       "       14823, 19948, 19441, 16371, 14326, 19963])"
      ]
     },
     "execution_count": 63,
     "metadata": {},
     "output_type": "execute_result"
    }
   ],
   "source": [
    "np.hstack(list(set(train_x[train_x[:,0]==0][:,1])))"
   ]
  },
  {
   "cell_type": "code",
   "execution_count": 91,
   "metadata": {},
   "outputs": [
    {
     "name": "stdout",
     "output_type": "stream",
     "text": [
      "Coverage from FM: 8.190352865004856\n",
      "Coverage from RAND: 100.0\n",
      "Coverage from POP: 0.0\n"
     ]
    }
   ],
   "source": [
    "def coverage(recommend_list, dims):\n",
    "  items_train = np.unique(train_x[:,1])\n",
    "  rec_items_in_train = len(set(recommend_list.flatten()))\n",
    "  coverage = rec_items_in_train / (dims[1]-dims[0]) *100\n",
    "  return coverage\n",
    "\n",
    "cov_fm = coverage(recommend_list_fm, train_x)\n",
    "cov_rnd = coverage(recommend_list_rnd, train_x)\n",
    "cov_pop = coverage(recommend_list_pop, train_x)\n",
    "\n",
    "print(f\"Coverage from FM: {cov_fm}\")\n",
    "print(f\"Coverage from RAND: {cov_rnd}\")\n",
    "print(f\"Coverage from POP: {cov_pop}\")\n"
   ]
  },
  {
   "attachments": {},
   "cell_type": "markdown",
   "metadata": {},
   "source": [
    "# Visualization"
   ]
  },
  {
   "cell_type": "code",
   "execution_count": null,
   "metadata": {},
   "outputs": [
    {
     "name": "stderr",
     "output_type": "stream",
     "text": [
      "\"kill\" no se reconoce como un comando interno o externo,\n",
      "programa o archivo por lotes ejecutable.\n"
     ]
    }
   ],
   "source": [
    "# os.chdir(os.getcwd() / Path(\"4_Modelling\"))\n"
   ]
  },
  {
   "cell_type": "code",
   "execution_count": null,
   "metadata": {},
   "outputs": [
    {
     "data": {
      "text/plain": [
       "Reusing TensorBoard on port 6006 (pid 2820), started 4 days, 0:47:11 ago. (Use '!kill 2820' to kill it.)"
      ]
     },
     "metadata": {},
     "output_type": "display_data"
    },
    {
     "data": {
      "text/html": [
       "\n",
       "      <iframe id=\"tensorboard-frame-15f1a21f24a81f23\" width=\"100%\" height=\"800\" frameborder=\"0\">\n",
       "      </iframe>\n",
       "      <script>\n",
       "        (function() {\n",
       "          const frame = document.getElementById(\"tensorboard-frame-15f1a21f24a81f23\");\n",
       "          const url = new URL(\"http://localhost\");\n",
       "          const port = 6006;\n",
       "          if (port) {\n",
       "            url.port = port;\n",
       "          }\n",
       "          frame.src = url;\n",
       "        })();\n",
       "      </script>\n",
       "    "
      ],
      "text/plain": [
       "<IPython.core.display.HTML object>"
      ]
     },
     "metadata": {},
     "output_type": "display_data"
    }
   ],
   "source": [
    "# %tensorboard --logdir run_tensorboard"
   ]
  }
 ],
 "metadata": {
  "kernelspec": {
   "display_name": "recsysproject",
   "language": "python",
   "name": "python3"
  },
  "language_info": {
   "codemirror_mode": {
    "name": "ipython",
    "version": 3
   },
   "file_extension": ".py",
   "mimetype": "text/x-python",
   "name": "python",
   "nbconvert_exporter": "python",
   "pygments_lexer": "ipython3",
   "version": "3.7.9"
  },
  "orig_nbformat": 4,
  "vscode": {
   "interpreter": {
    "hash": "51830aba456e748017c0629249509085e32f77443cd9009188a4b3ec34121472"
   }
  }
 },
 "nbformat": 4,
 "nbformat_minor": 2
}
