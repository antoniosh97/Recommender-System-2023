{
 "cells": [
  {
   "cell_type": "code",
   "execution_count": 1,
   "metadata": {},
   "outputs": [
    {
     "name": "stderr",
     "output_type": "stream",
     "text": [
      "c:\\Users\\brend\\AppData\\Local\\Programs\\Python\\Python37\\lib\\site-packages\\tqdm\\auto.py:22: TqdmWarning: IProgress not found. Please update jupyter and ipywidgets. See https://ipywidgets.readthedocs.io/en/stable/user_install.html\n",
      "  from .autonotebook import tqdm as notebook_tqdm\n"
     ]
    }
   ],
   "source": [
    "#====================== Import de librerias =====================#\n",
    "\n",
    "import time\n",
    "from pathlib import Path\n",
    "import json\n",
    "import gzip\n",
    "from urllib.request import urlopen\n",
    "import datetime\n",
    "import plotly.express as px\n",
    "import plotly.graph_objects as go\n",
    "import wget\n",
    "import logging\n",
    "from tqdm import tqdm\n",
    "import random\n",
    "import time\n",
    "\n",
    "\n",
    "import torch\n",
    "import pandas as pd\n",
    "import numpy as np\n",
    "import csv\n",
    "import os\n",
    "import scipy.sparse as sp\n",
    "from typing import Tuple, Dict, Any, List\n",
    "from tqdm import tqdm, trange\n",
    "from IPython import embed\n",
    "from torch.utils.data import DataLoader, Dataset\n",
    "from torch.utils.tensorboard import SummaryWriter\n",
    "import tensorboard\n",
    "import webbrowser\n",
    "\n",
    "sampling_method = os.listdir()[3].split(\".\")[-2][3:].split(\"_\")[-1]\n",
    "old_path = os.getcwd()\n",
    "os.chdir(\"..\")\n",
    "execution_path = os.getcwd()"
   ]
  },
  {
   "cell_type": "code",
   "execution_count": 2,
   "metadata": {},
   "outputs": [],
   "source": [
    "%load_ext tensorboard\n",
    "\n",
    "logs_base_dir = \"runs_\"+sampling_method\n",
    "os.environ[\"run_tensorboard\"] = logs_base_dir\n",
    "\n",
    "os.makedirs(f'{execution_path}/{\"4_Modelling\"}/{logs_base_dir}', exist_ok=True)\n",
    "tb_fm = SummaryWriter(log_dir=f'{execution_path}/{\"4_Modelling\"}/{logs_base_dir}/{logs_base_dir}_FM/')\n",
    "tb_rnd = SummaryWriter(log_dir=f'{execution_path}/{\"4_Modelling\"}/{logs_base_dir}/{logs_base_dir}_RANDOM/')\n",
    "\n",
    "def save_data_configuration(text):\n",
    "    save_data_dir = \"data_config_\" + sampling_method +\".txt\"\n",
    "    path = f'{execution_path}/{\"4_Modelling\"}/{save_data_dir}'\n",
    "    with open(path, \"a\") as data_file:\n",
    "        data_file.write(text+\"\\n\")\n",
    "\n",
    "    return text"
   ]
  },
  {
   "cell_type": "code",
   "execution_count": 3,
   "metadata": {},
   "outputs": [],
   "source": [
    "# Let's define some hyper-parameters\n",
    "hparams = {\n",
    "    'batch_size':64,\n",
    "    'num_epochs':12,\n",
    "    'hidden_size': 32,\n",
    "    'learning_rate':1e-4,\n",
    "}\n",
    "\n",
    "# we select to work on GPU if it is available in the machine, otherwise\n",
    "# will run on CPU\n",
    "device = torch.device('cuda') if torch.cuda.is_available() else torch.device('cpu')"
   ]
  },
  {
   "cell_type": "code",
   "execution_count": 4,
   "metadata": {},
   "outputs": [],
   "source": [
    "#============ Definicion de valores de configuracion ============#\n",
    "\n",
    "min_reviews, min_usuarios = [6,6]\n",
    "col_names = {\"col_id_reviewer\": \"reviewerID\",\n",
    "             \"col_id_product\": \"asin\",\n",
    "             \"col_unix_time\": \"unixReviewTime\",\n",
    "             \"col_rating\": \"overall\",\n",
    "             \"col_timestamp\": \"timestamp\",\n",
    "             \"col_year\": \"year\"}\n",
    "\n",
    "csv_filename = execution_path/Path(\"3_DataPreparation/interactions_minR{}_minU{}.csv\".format(min_reviews,min_usuarios))"
   ]
  },
  {
   "cell_type": "code",
   "execution_count": 5,
   "metadata": {},
   "outputs": [
    {
     "data": {
      "text/html": [
       "<div>\n",
       "<style scoped>\n",
       "    .dataframe tbody tr th:only-of-type {\n",
       "        vertical-align: middle;\n",
       "    }\n",
       "\n",
       "    .dataframe tbody tr th {\n",
       "        vertical-align: top;\n",
       "    }\n",
       "\n",
       "    .dataframe thead th {\n",
       "        text-align: right;\n",
       "    }\n",
       "</style>\n",
       "<table border=\"1\" class=\"dataframe\">\n",
       "  <thead>\n",
       "    <tr style=\"text-align: right;\">\n",
       "      <th></th>\n",
       "      <th>asin</th>\n",
       "      <th>reviewerID</th>\n",
       "      <th>overall</th>\n",
       "      <th>unixReviewTime</th>\n",
       "      <th>timestamp</th>\n",
       "      <th>year</th>\n",
       "    </tr>\n",
       "  </thead>\n",
       "  <tbody>\n",
       "    <tr>\n",
       "      <th>0</th>\n",
       "      <td>0</td>\n",
       "      <td>9132</td>\n",
       "      <td>5.0</td>\n",
       "      <td>1477785600</td>\n",
       "      <td>2016-10-30 02:00:00</td>\n",
       "      <td>1970</td>\n",
       "    </tr>\n",
       "    <tr>\n",
       "      <th>1</th>\n",
       "      <td>0</td>\n",
       "      <td>10612</td>\n",
       "      <td>5.0</td>\n",
       "      <td>1467244800</td>\n",
       "      <td>2016-06-30 02:00:00</td>\n",
       "      <td>1970</td>\n",
       "    </tr>\n",
       "    <tr>\n",
       "      <th>2</th>\n",
       "      <td>0</td>\n",
       "      <td>257</td>\n",
       "      <td>1.0</td>\n",
       "      <td>1454716800</td>\n",
       "      <td>2016-02-06 01:00:00</td>\n",
       "      <td>1970</td>\n",
       "    </tr>\n",
       "    <tr>\n",
       "      <th>3</th>\n",
       "      <td>0</td>\n",
       "      <td>4425</td>\n",
       "      <td>5.0</td>\n",
       "      <td>1434844800</td>\n",
       "      <td>2015-06-21 02:00:00</td>\n",
       "      <td>1970</td>\n",
       "    </tr>\n",
       "    <tr>\n",
       "      <th>4</th>\n",
       "      <td>0</td>\n",
       "      <td>2523</td>\n",
       "      <td>4.0</td>\n",
       "      <td>1420329600</td>\n",
       "      <td>2015-01-04 01:00:00</td>\n",
       "      <td>1970</td>\n",
       "    </tr>\n",
       "  </tbody>\n",
       "</table>\n",
       "</div>"
      ],
      "text/plain": [
       "   asin  reviewerID  overall  unixReviewTime            timestamp  year\n",
       "0     0        9132      5.0      1477785600  2016-10-30 02:00:00  1970\n",
       "1     0       10612      5.0      1467244800  2016-06-30 02:00:00  1970\n",
       "2     0         257      1.0      1454716800  2016-02-06 01:00:00  1970\n",
       "3     0        4425      5.0      1434844800  2015-06-21 02:00:00  1970\n",
       "4     0        2523      4.0      1420329600  2015-01-04 01:00:00  1970"
      ]
     },
     "execution_count": 5,
     "metadata": {},
     "output_type": "execute_result"
    }
   ],
   "source": [
    "df = pd.read_csv(csv_filename)\n",
    "df.head()"
   ]
  },
  {
   "cell_type": "code",
   "execution_count": 6,
   "metadata": {},
   "outputs": [
    {
     "data": {
      "text/plain": [
       "asin               6178\n",
       "reviewerID        14138\n",
       "overall               5\n",
       "unixReviewTime     3622\n",
       "timestamp          3622\n",
       "year                  1\n",
       "dtype: int64"
      ]
     },
     "execution_count": 6,
     "metadata": {},
     "output_type": "execute_result"
    }
   ],
   "source": [
    "save_data_configuration(str(df.nunique()))\n",
    "df.nunique()"
   ]
  },
  {
   "attachments": {},
   "cell_type": "markdown",
   "metadata": {},
   "source": [
    "# Splitting dataset (TLOO strategy)"
   ]
  },
  {
   "cell_type": "code",
   "execution_count": 7,
   "metadata": {},
   "outputs": [],
   "source": [
    "def split_train_test(data: np.ndarray,\n",
    "                     n_users: int) -> Tuple[np.ndarray, np.ndarray]:\n",
    "    # Split and remove timestamp\n",
    "    train_x, test_x = [], []\n",
    "    for u in trange(n_users, desc='spliting train/test and removing timestamp...'):\n",
    "        user_data = data[data[:, 0] == u]\n",
    "        sorted_data = user_data[user_data[:, -1].argsort()]\n",
    "        if len(sorted_data) == 1:\n",
    "            train_x.append(sorted_data[0][:-1])\n",
    "        else:\n",
    "            train_x.append(sorted_data[:-1][:, :-1])\n",
    "            test_x.append(sorted_data[-1][:-1])\n",
    "    return np.vstack(train_x), np.stack(test_x)"
   ]
  },
  {
   "cell_type": "code",
   "execution_count": 8,
   "metadata": {},
   "outputs": [
    {
     "data": {
      "text/plain": [
       "array([[      9132,          0, 1477785600],\n",
       "       [     10612,          0, 1467244800],\n",
       "       [       257,          0, 1454716800],\n",
       "       ...,\n",
       "       [      9051,       6177, 1530144000],\n",
       "       [      3412,       6177, 1527465600],\n",
       "       [      9805,       6177, 1527206400]])"
      ]
     },
     "execution_count": 8,
     "metadata": {},
     "output_type": "execute_result"
    }
   ],
   "source": [
    "data = df[[*col_names.values()][:3]].astype('int32').to_numpy()\n",
    "data"
   ]
  },
  {
   "cell_type": "code",
   "execution_count": 9,
   "metadata": {},
   "outputs": [
    {
     "name": "stdout",
     "output_type": "stream",
     "text": [
      "Dim of users: 14138\n",
      "Dim of items: 20316\n",
      "Dims of unixtime: 1538006401\n"
     ]
    },
    {
     "data": {
      "text/plain": [
       "array([[      9132,      14138, 1477785600],\n",
       "       [     10612,      14138, 1467244800],\n",
       "       [       257,      14138, 1454716800],\n",
       "       ...,\n",
       "       [      9051,      20315, 1530144000],\n",
       "       [      3412,      20315, 1527465600],\n",
       "       [      9805,      20315, 1527206400]])"
      ]
     },
     "execution_count": 9,
     "metadata": {},
     "output_type": "execute_result"
    }
   ],
   "source": [
    "add_dims=0\n",
    "for i in range(data.shape[1] - 1):  # do not affect to timestamp\n",
    "    # MAKE IT START BY 0\n",
    "    data[:, i] -= np.min(data[:, i])\n",
    "    # RE-INDEX\n",
    "    data[:, i] += add_dims\n",
    "    add_dims = np.max(data[:, i]) + 1\n",
    "dims = np.max(data, axis=0) + 1\n",
    "print(\"Dim of users: {}\\nDim of items: {}\\nDims of unixtime: {}\".format(dims[0], dims[1], dims[2]))\n",
    "data"
   ]
  },
  {
   "cell_type": "code",
   "execution_count": 10,
   "metadata": {},
   "outputs": [
    {
     "name": "stderr",
     "output_type": "stream",
     "text": [
      "spliting train/test and removing timestamp...: 100%|██████████| 14138/14138 [00:06<00:00, 2331.35it/s]\n"
     ]
    },
    {
     "data": {
      "text/plain": [
       "array([[    0, 19248],\n",
       "       [    0, 19249],\n",
       "       [    0, 14823],\n",
       "       ...,\n",
       "       [14137, 14159],\n",
       "       [14137, 18245],\n",
       "       [14137, 18904]])"
      ]
     },
     "execution_count": 10,
     "metadata": {},
     "output_type": "execute_result"
    }
   ],
   "source": [
    "train_x, test_x = split_train_test(data, dims[0])\n",
    "train_x"
   ]
  },
  {
   "attachments": {},
   "cell_type": "markdown",
   "metadata": {},
   "source": [
    "# Negative sampling"
   ]
  },
  {
   "cell_type": "code",
   "execution_count": 11,
   "metadata": {},
   "outputs": [
    {
     "name": "stdout",
     "output_type": "stream",
     "text": [
      "New dims: [14138 20316]\n",
      "New train_x:\n",
      " [[    0 19248]\n",
      " [    0 19249]\n",
      " [    0 14823]\n",
      " ...\n",
      " [14137 14159]\n",
      " [14137 18245]\n",
      " [14137 18904]]\n"
     ]
    }
   ],
   "source": [
    "train_x = train_x[:, :2]\n",
    "dims = dims[:2]\n",
    "print(\"New dims:\",dims)\n",
    "print(\"New train_x:\\n\",train_x)"
   ]
  },
  {
   "cell_type": "code",
   "execution_count": 12,
   "metadata": {},
   "outputs": [],
   "source": [
    "def build_adj_mx(n_feat:int, data:np.ndarray) -> sp.dok_matrix :\n",
    "    train_mat = sp.dok_matrix((n_feat, n_feat), dtype=np.float32)\n",
    "    for x in tqdm(data, desc=f\"BUILDING ADJACENCY MATRIX...\"):\n",
    "        train_mat[x[0], x[1]] = 1.0\n",
    "        train_mat[x[1], x[0]] = 1.0\n",
    "        # IDEA: We treat features that are not user or item differently because we do not consider\n",
    "        #  interactions between contexts\n",
    "        if data.shape[1] > 2:\n",
    "            for idx in range(len(x[2:])):\n",
    "                train_mat[x[0], x[2 + idx]] = 1.0\n",
    "                train_mat[x[1], x[2 + idx]] = 1.0\n",
    "                train_mat[x[2 + idx], x[0]] = 1.0\n",
    "                train_mat[x[2 + idx], x[1]] = 1.0\n",
    "    return train_mat"
   ]
  },
  {
   "cell_type": "code",
   "execution_count": 13,
   "metadata": {},
   "outputs": [],
   "source": [
    "def ng_sample(data: np.ndarray, dims: list, num_ng:int=4) -> Tuple[np.ndarray, sp.dok_matrix]:\n",
    "    rating_mat = build_adj_mx(dims[-1], data)\n",
    "    interactions = []\n",
    "    min_item, max_item = dims[0], dims[1]\n",
    "    for num, x in tqdm(enumerate(data), desc='perform negative sampling...'):\n",
    "        interactions.append(np.append(x, 1))\n",
    "        for t in range(num_ng):\n",
    "            j = np.random.randint(min_item, max_item) #if not pop else random.sample(items_to_sample, 1)[0]\n",
    "            # IDEA: Loop to exclude true interactions (set to 1 in adj_train) user - item\n",
    "            while (x[0], j) in rating_mat or j == int(x[1]):\n",
    "                j = np.random.randint(min_item, max_item) #if not pop else random.sample(items_to_sample, 1)[0]\n",
    "            interactions.append(np.concatenate([[x[0], j], x[2:], [0]]))\n",
    "    return np.vstack(interactions), rating_mat"
   ]
  },
  {
   "cell_type": "code",
   "execution_count": 14,
   "metadata": {},
   "outputs": [
    {
     "name": "stderr",
     "output_type": "stream",
     "text": [
      "BUILDING ADJACENCY MATRIX...: 100%|██████████| 123226/123226 [00:02<00:00, 41427.36it/s]\n",
      "perform negative sampling...: 123226it [00:05, 22453.59it/s]\n"
     ]
    },
    {
     "name": "stdout",
     "output_type": "stream",
     "text": [
      "Dimensions matrix:\n",
      " [14138 20316]\n",
      "\n",
      "Rating matrix:\n"
     ]
    },
    {
     "data": {
      "text/plain": [
       "<20316x20316 sparse matrix of type '<class 'numpy.float32'>'\n",
       "\twith 246452 stored elements in Dictionary Of Keys format>"
      ]
     },
     "execution_count": 14,
     "metadata": {},
     "output_type": "execute_result"
    }
   ],
   "source": [
    "train_x, rating_mat = ng_sample(train_x, dims)\n",
    "print(\"Dimensions matrix:\\n\",dims)\n",
    "print(\"\\nRating matrix:\")\n",
    "rating_mat"
   ]
  },
  {
   "cell_type": "code",
   "execution_count": 15,
   "metadata": {},
   "outputs": [
    {
     "data": {
      "text/plain": [
       "6178"
      ]
     },
     "execution_count": 15,
     "metadata": {},
     "output_type": "execute_result"
    }
   ],
   "source": [
    "dims[-1]-dims[0]"
   ]
  },
  {
   "cell_type": "code",
   "execution_count": 16,
   "metadata": {},
   "outputs": [
    {
     "name": "stdout",
     "output_type": "stream",
     "text": [
      "0.000597112191656141\n",
      "0.9994028878083439\n"
     ]
    }
   ],
   "source": [
    "# Exercise 2\n",
    "\n",
    "## Evaristo\n",
    "#### number of ones\n",
    "print(np.count_nonzero(rating_mat.toarray())/(dims[-1]*dims[-1]))\n",
    "### number of zeros\n",
    "print(1 - np.count_nonzero(rating_mat.toarray())/(dims[-1]*dims[-1]))\n",
    "\n",
    "# ## Brenda\n",
    "# #### Who sparse is the matrix??\n",
    "# print(1 - rating_mat.shape[0] / rating_mat.count_nonzero())"
   ]
  },
  {
   "cell_type": "code",
   "execution_count": 17,
   "metadata": {},
   "outputs": [
    {
     "data": {
      "text/plain": [
       "array([[    0, 19248,     1],\n",
       "       [    0, 17562,     0],\n",
       "       [    0, 17712,     0],\n",
       "       [    0, 18997,     0],\n",
       "       [    0, 18852,     0],\n",
       "       [    0, 19249,     1],\n",
       "       [    0, 17050,     0],\n",
       "       [    0, 20034,     0],\n",
       "       [    0, 18617,     0],\n",
       "       [    0, 18093,     0]])"
      ]
     },
     "execution_count": 17,
     "metadata": {},
     "output_type": "execute_result"
    }
   ],
   "source": [
    "train_x[:10]"
   ]
  },
  {
   "attachments": {},
   "cell_type": "markdown",
   "metadata": {},
   "source": [
    "# Creating dataset class"
   ]
  },
  {
   "cell_type": "code",
   "execution_count": 18,
   "metadata": {},
   "outputs": [],
   "source": [
    "class PointData(Dataset):\n",
    "    def __init__(self,\n",
    "                 data: np.ndarray,\n",
    "                 dims: list) -> None:\n",
    "        \"\"\"\n",
    "        Dataset formatter adapted point-wise algorithms\n",
    "        Parameters\n",
    "        \"\"\"\n",
    "        super(PointData, self).__init__()\n",
    "        self.interactions = data\n",
    "        self.dims = dims\n",
    "\n",
    "    def __len__(self) -> int:\n",
    "        return len(self.interactions)\n",
    "        \n",
    "    def __getitem__(self, \n",
    "                    index: torch.Tensor) -> Tuple[torch.Tensor, torch.Tensor]:\n",
    "        \"\"\"\n",
    "        Return the pairs user-item and the target.\n",
    "        \"\"\"\n",
    "        return self.interactions[index][:-1], self.interactions[index][-1]\n",
    "\n",
    "train_dataset = PointData(train_x, dims)"
   ]
  },
  {
   "cell_type": "code",
   "execution_count": 19,
   "metadata": {},
   "outputs": [
    {
     "data": {
      "text/plain": [
       "(array([    0, 19248]), 1)"
      ]
     },
     "execution_count": 19,
     "metadata": {},
     "output_type": "execute_result"
    }
   ],
   "source": [
    "train_dataset[0]"
   ]
  },
  {
   "attachments": {},
   "cell_type": "markdown",
   "metadata": {},
   "source": [
    "# Preparing the test set for inference"
   ]
  },
  {
   "cell_type": "code",
   "execution_count": 20,
   "metadata": {},
   "outputs": [
    {
     "data": {
      "text/plain": [
       "array([[    0, 17249],\n",
       "       [    1, 18015],\n",
       "       [    2, 14196],\n",
       "       ...,\n",
       "       [14135, 19938],\n",
       "       [14136, 20214],\n",
       "       [14137, 15542]])"
      ]
     },
     "execution_count": 20,
     "metadata": {},
     "output_type": "execute_result"
    }
   ],
   "source": [
    "test_x"
   ]
  },
  {
   "cell_type": "code",
   "execution_count": 21,
   "metadata": {},
   "outputs": [
    {
     "name": "stdout",
     "output_type": "stream",
     "text": [
      "(20316, 20316)\n",
      "rating_mat contains log2(rating_mat.shape[0]) = 15 bits\n"
     ]
    }
   ],
   "source": [
    "import math\n",
    "print(rating_mat.shape)\n",
    "bits = math.ceil(math.log(rating_mat.shape[0],2))\n",
    "print(\"rating_mat contains log2(rating_mat.shape[0]) = {} bits\".format(bits))"
   ]
  },
  {
   "cell_type": "code",
   "execution_count": 22,
   "metadata": {},
   "outputs": [],
   "source": [
    "def create_test_no_interactions_stratified_items(train_x: np.ndarray, test_x: np.ndarray, dims, num_samples):\n",
    "    save_data_configuration(\"\\n\"+\"#\"*4+\"  zero_positions: Stratified Sampling By Items  \"+\"#\"*4)\n",
    "\n",
    "    seed = 2   # get same results\n",
    "    random.seed(a = seed)\n",
    "\n",
    "    items_test = np.unique(test_x[:, 1])\n",
    "    total_users = range(0,dims[0])\n",
    "    zero_positions = np.zeros((num_samples * len(items_test), 2)).astype(int)\n",
    "    start_index = 0\n",
    "\n",
    "    for item in tqdm(items_test):\n",
    "        strata_users_train = np.unique(train_x[train_x[:,1] == item][:,0])\n",
    "        strata_users_test = np.unique(test_x[test_x[:,1] == item][:,0])\n",
    "        random_selection_users = random.choices(list(set(total_users) - set(strata_users_train) - set(strata_users_test)), k=num_samples) # random.sample\n",
    "\n",
    "        zero_positions[start_index:start_index + num_samples, 0] = random_selection_users\n",
    "        zero_positions[start_index:start_index + num_samples, 1] = item\n",
    "        start_index += num_samples\n",
    "\n",
    "    indexes = np.argsort(zero_positions[:,0])\n",
    "    # [00:14<00:00, 325.18it/s]\n",
    "    zero_positions[:,0] = zero_positions[indexes,0]\n",
    "    zero_positions[:,1] = zero_positions[indexes,1]\n",
    "    return zero_positions\n",
    "    # [00:14<00:00, 310.87it/s]\n",
    "    # return np.vstack([zero_positions[indexes,0],zero_positions[indexes,1]]).T"
   ]
  },
  {
   "cell_type": "code",
   "execution_count": 23,
   "metadata": {},
   "outputs": [],
   "source": [
    "# def create_test_no_interactions_stratified_itemss(train_x: np.ndarray, test_x: np.ndarray, dims_usuarios_productos: Tuple[int, int],  num_samples: int) -> np.ndarray:\n",
    "#     \"\"\"\n",
    "#     Esta funcion se encarga de crear de manera eficiente un dataset que contenga las interacciones usuario-producto en test que no se hayan producido.\n",
    "    \n",
    "#     Argumentos:\n",
    "#         train_x (np.ndarray): matriz de entrenamiento con las interacciones usuario-producto previas\n",
    "#         test_x (np.ndarray): matriz de prueba con las interacciones usuario-producto previas\n",
    "#         dims_usuarios_productos (Tuple[int, int]): rango de productos y usuarios disponibles\n",
    "    \n",
    "#     Retorno:\n",
    "#         np.ndarray: una matriz con todas las interacciones usuario-producto en test que no se hayan producido\n",
    "#     \"\"\"\n",
    "#     from tqdm import tqdm\n",
    "#     import random\n",
    "    \n",
    "#     # Identificamos los usuarios presentes en la prueba\n",
    "#     usuarios_test = np.unique(test_x[:, 0])\n",
    "#     # Identificamos el rango de productos disponibles\n",
    "#     total_productos = range(dims_usuarios_productos[0]-1, dims_usuarios_productos[1])\n",
    "    \n",
    "#     # Recorremos cada usuario presente en la prueba\n",
    "#     for usuario in tqdm(usuarios_test):\n",
    "#         productos_train = np.unique(train_x[train_x[:, 0] == usuario][:, 1])\n",
    "#         productos_a_machear = random.choices(list(set(total_productos) - set(productos_train)), k=num_samples)\n",
    "#         lista_por_usuario = np.vstack([(np.ones(len(productos_a_machear))*usuario).astype(int), productos_a_machear]).T\n",
    "        \n",
    "#         # Si es el primer usuario, inicializamos una matriz con sus interacciones\n",
    "#         if usuario == 0:\n",
    "#             zero_positions = lista_por_usuario\n",
    "#         # Si no es el primer usuario, concatenamos sus interacciones a la matriz existente\n",
    "#         else:\n",
    "#             zero_positions = np.concatenate((zero_positions, lista_por_usuario), axis=0)\n",
    "            \n",
    "#     return zero_positions"
   ]
  },
  {
   "cell_type": "code",
   "execution_count": 24,
   "metadata": {},
   "outputs": [],
   "source": [
    "# def zero_positions_mode(mode, rating_mat, train_x, test_x, dims):\n",
    "   \n",
    "#     if mode == 0:\n",
    "#         save_data_configuration(\"\\n\"+\"#\"*4+\"  zero_positions: all data  \"+\"#\"*4)\n",
    "#         return np.asarray(np.where(rating_mat.A==0)).T\n",
    "#     elif mode == 1:\n",
    "#         zero_true_matrix = np.where(rating_mat.A==0)\n",
    "#         save_data_configuration(\"\\n\"+\"#\"*4+\"  zero_positions: all data separated by rows  \"+\"#\"*4)\n",
    "#         return np.asarray([zero_true_matrix[0],zero_true_matrix[1]]).T\n",
    "#     else:\n",
    "#         save_data_configuration(\"\\n\"+\"#\"*4+\"  zero_positions: random sampling  \"+\"#\"*4)\n",
    "#         zp = create_test_no_interactions(train_x, test_x, dims,  num_samples=199)\n",
    "#         return zp"
   ]
  },
  {
   "cell_type": "code",
   "execution_count": 25,
   "metadata": {},
   "outputs": [
    {
     "name": "stderr",
     "output_type": "stream",
     "text": [
      "100%|██████████| 4654/4654 [00:13<00:00, 341.25it/s]\n"
     ]
    },
    {
     "name": "stdout",
     "output_type": "stream",
     "text": [
      "(2122224, 2)\t-----> num_samples = 456\n",
      "\n"
     ]
    },
    {
     "data": {
      "text/plain": [
       "array([[    0, 18768],\n",
       "       [    0, 15390],\n",
       "       [    0, 15290],\n",
       "       ...,\n",
       "       [14137, 19539],\n",
       "       [14137, 17126],\n",
       "       [14137, 17857]])"
      ]
     },
     "execution_count": 25,
     "metadata": {},
     "output_type": "execute_result"
    }
   ],
   "source": [
    "\n",
    "num_samples = 456 # number of users in strata\n",
    "zero_positions = create_test_no_interactions_stratified_items(train_x, test_x, dims,num_samples)\n",
    "print(save_data_configuration(str(zero_positions.shape)+f\"\\t-----> num_samples = {num_samples}\\n\"))\n",
    "zero_positions"
   ]
  },
  {
   "cell_type": "code",
   "execution_count": 26,
   "metadata": {},
   "outputs": [
    {
     "name": "stderr",
     "output_type": "stream",
     "text": [
      "100%|██████████| 14138/14138 [01:30<00:00, 155.77it/s]\n"
     ]
    },
    {
     "data": {
      "text/plain": [
       "array([14148, 14154, 14157, 14169, 14196, 14211, 14254, 14261, 14321,\n",
       "       14373, 14400, 14426, 14433, 14445, 14458, 14504, 14569, 14578,\n",
       "       14614, 14639, 14671, 14784, 14798, 14809, 14880, 14914, 14924,\n",
       "       14974, 15020, 15024, 15142, 15169, 15272, 15290, 15324, 15369,\n",
       "       15376, 15390, 15402, 15517, 15625, 15667, 15673, 15730, 15753,\n",
       "       15769, 15794, 15848, 15899, 16025, 16063, 16125, 16147, 16152,\n",
       "       16160, 16195, 16366, 16399, 16401, 16445, 16488, 16508, 16508,\n",
       "       16559, 16578, 16616, 16620, 16623, 16641, 16709, 16719, 16722,\n",
       "       16732, 16793, 16819, 16869, 16967, 17022, 17075, 17105, 17108,\n",
       "       17152, 17162, 17186, 17189, 17239, 17247, 17263, 17379, 17489,\n",
       "       17507, 17548, 17568, 17674, 17708, 17710, 17770, 17770, 17798,\n",
       "       17805, 17948, 17972, 18064, 18121, 18137, 18243, 18265, 18298,\n",
       "       18302, 18333, 18340, 18353, 18361, 18377, 18395, 18438, 18449,\n",
       "       18548, 18563, 18596, 18633, 18686, 18709, 18742, 18768, 18772,\n",
       "       18772, 18780, 18785, 18850, 18973, 19066, 19147, 19179, 19202,\n",
       "       19220, 19224, 19230, 19243, 19327, 19425, 19466, 19467, 19508,\n",
       "       19518, 19555, 19589, 19667, 19702, 19758, 19806, 19826, 19904,\n",
       "       19912, 19920, 19935, 20089, 20113, 20149, 20203, 20277])"
      ]
     },
     "execution_count": 26,
     "metadata": {},
     "output_type": "execute_result"
    }
   ],
   "source": [
    "\"\"\"\n",
    "Esta parte del código se usaba porque el zero positions venia de la rating matrix la cual tenia informacion no útil como (user,user) o (item,item), por eso nos quedábamos con items mayores a dims[0]\n",
    "Ya que si recordamos, la matrix tenia size: (users + items)\n",
    "rango items iniciales = 0 ... 6177\n",
    "rango items actuales  = 14138 ... 20135\n",
    "\"\"\"\n",
    "\n",
    "# items2compute = []\n",
    "# for user in trange(dims[0]):\n",
    "#     aux = zero_positions[zero_positions[:, 0] == user][:, 1]\n",
    "#     items2compute.append(aux[aux >= dims[0]])\n",
    "# items2compute[0]\n",
    "\n",
    "\n",
    "items2compute = []\n",
    "for user in trange(dims[0]):\n",
    "    # aux = np.array(sorted(zero_positions[start:start+num_samples,1]))\n",
    "    # [00:36<00:00, 386.85it/s]\t-----> num_samples = 199\n",
    "    # [01:39<00:00, 141.49it/s]\t-----> num_samples = 456\n",
    "    aux = np.array(sorted(zero_positions[zero_positions[:, 0] == user][:, 1]))\n",
    "    items2compute.append(aux.copy())\n",
    "items2compute[0]"
   ]
  },
  {
   "cell_type": "code",
   "execution_count": 27,
   "metadata": {},
   "outputs": [
    {
     "name": "stdout",
     "output_type": "stream",
     "text": [
      "[    0 17249]\n"
     ]
    },
    {
     "name": "stderr",
     "output_type": "stream",
     "text": [
      "BUILDING TEST SET...: 14138it [00:02, 4839.03it/s]\n"
     ]
    },
    {
     "data": {
      "text/plain": [
       "array([[    0, 17249],\n",
       "       [    0, 14148],\n",
       "       [    0, 14154],\n",
       "       [    0, 14157],\n",
       "       [    0, 14169],\n",
       "       [    0, 14196],\n",
       "       [    0, 14211],\n",
       "       [    0, 14254],\n",
       "       [    0, 14261],\n",
       "       [    0, 14321],\n",
       "       [    0, 14373],\n",
       "       [    0, 14400],\n",
       "       [    0, 14426],\n",
       "       [    0, 14433],\n",
       "       [    0, 14445],\n",
       "       [    0, 14458],\n",
       "       [    0, 14504],\n",
       "       [    0, 14569],\n",
       "       [    0, 14578],\n",
       "       [    0, 14614],\n",
       "       [    0, 14639],\n",
       "       [    0, 14671],\n",
       "       [    0, 14784],\n",
       "       [    0, 14798],\n",
       "       [    0, 14809],\n",
       "       [    0, 14880],\n",
       "       [    0, 14914],\n",
       "       [    0, 14924],\n",
       "       [    0, 14974],\n",
       "       [    0, 15020],\n",
       "       [    0, 15024],\n",
       "       [    0, 15142],\n",
       "       [    0, 15169],\n",
       "       [    0, 15272],\n",
       "       [    0, 15290],\n",
       "       [    0, 15324],\n",
       "       [    0, 15369],\n",
       "       [    0, 15376],\n",
       "       [    0, 15390],\n",
       "       [    0, 15402],\n",
       "       [    0, 15517],\n",
       "       [    0, 15625],\n",
       "       [    0, 15667],\n",
       "       [    0, 15673],\n",
       "       [    0, 15730],\n",
       "       [    0, 15753],\n",
       "       [    0, 15769],\n",
       "       [    0, 15794],\n",
       "       [    0, 15848],\n",
       "       [    0, 15899],\n",
       "       [    0, 16025],\n",
       "       [    0, 16063],\n",
       "       [    0, 16125],\n",
       "       [    0, 16147],\n",
       "       [    0, 16152],\n",
       "       [    0, 16160],\n",
       "       [    0, 16195],\n",
       "       [    0, 16366],\n",
       "       [    0, 16399],\n",
       "       [    0, 16401],\n",
       "       [    0, 16445],\n",
       "       [    0, 16488],\n",
       "       [    0, 16508],\n",
       "       [    0, 16508],\n",
       "       [    0, 16559],\n",
       "       [    0, 16578],\n",
       "       [    0, 16616],\n",
       "       [    0, 16620],\n",
       "       [    0, 16623],\n",
       "       [    0, 16641],\n",
       "       [    0, 16709],\n",
       "       [    0, 16719],\n",
       "       [    0, 16722],\n",
       "       [    0, 16732],\n",
       "       [    0, 16793],\n",
       "       [    0, 16819],\n",
       "       [    0, 16869],\n",
       "       [    0, 16967],\n",
       "       [    0, 17022],\n",
       "       [    0, 17075],\n",
       "       [    0, 17105],\n",
       "       [    0, 17108],\n",
       "       [    0, 17152],\n",
       "       [    0, 17162],\n",
       "       [    0, 17186],\n",
       "       [    0, 17189],\n",
       "       [    0, 17239],\n",
       "       [    0, 17247],\n",
       "       [    0, 17263],\n",
       "       [    0, 17379],\n",
       "       [    0, 17489],\n",
       "       [    0, 17507],\n",
       "       [    0, 17548],\n",
       "       [    0, 17568],\n",
       "       [    0, 17674],\n",
       "       [    0, 17708],\n",
       "       [    0, 17710],\n",
       "       [    0, 17770],\n",
       "       [    0, 17770],\n",
       "       [    0, 17798],\n",
       "       [    0, 17805],\n",
       "       [    0, 17948],\n",
       "       [    0, 17972],\n",
       "       [    0, 18064],\n",
       "       [    0, 18121],\n",
       "       [    0, 18137],\n",
       "       [    0, 18243],\n",
       "       [    0, 18265],\n",
       "       [    0, 18298],\n",
       "       [    0, 18302],\n",
       "       [    0, 18333],\n",
       "       [    0, 18340],\n",
       "       [    0, 18353],\n",
       "       [    0, 18361],\n",
       "       [    0, 18377],\n",
       "       [    0, 18395],\n",
       "       [    0, 18438],\n",
       "       [    0, 18449],\n",
       "       [    0, 18548],\n",
       "       [    0, 18563],\n",
       "       [    0, 18596],\n",
       "       [    0, 18633],\n",
       "       [    0, 18686],\n",
       "       [    0, 18709],\n",
       "       [    0, 18742],\n",
       "       [    0, 18768],\n",
       "       [    0, 18772],\n",
       "       [    0, 18772],\n",
       "       [    0, 18780],\n",
       "       [    0, 18785],\n",
       "       [    0, 18850],\n",
       "       [    0, 18973],\n",
       "       [    0, 19066],\n",
       "       [    0, 19147],\n",
       "       [    0, 19179],\n",
       "       [    0, 19202],\n",
       "       [    0, 19220],\n",
       "       [    0, 19224],\n",
       "       [    0, 19230],\n",
       "       [    0, 19243],\n",
       "       [    0, 19327],\n",
       "       [    0, 19425],\n",
       "       [    0, 19466],\n",
       "       [    0, 19467],\n",
       "       [    0, 19508],\n",
       "       [    0, 19518],\n",
       "       [    0, 19555],\n",
       "       [    0, 19589],\n",
       "       [    0, 19667],\n",
       "       [    0, 19702],\n",
       "       [    0, 19758],\n",
       "       [    0, 19806],\n",
       "       [    0, 19826],\n",
       "       [    0, 19904],\n",
       "       [    0, 19912],\n",
       "       [    0, 19920],\n",
       "       [    0, 19935],\n",
       "       [    0, 20089],\n",
       "       [    0, 20113],\n",
       "       [    0, 20149],\n",
       "       [    0, 20203],\n",
       "       [    0, 20277]])"
      ]
     },
     "execution_count": 27,
     "metadata": {},
     "output_type": "execute_result"
    }
   ],
   "source": [
    "def build_test_set(itemsnoninteracted:list, gt_test_interactions: np.ndarray) -> list:\n",
    "    #max_users, max_items = dims # number users (943), number items (2625)\n",
    "    test_set = []\n",
    "    for pair, negatives in tqdm(zip(gt_test_interactions, itemsnoninteracted), desc=\"BUILDING TEST SET...\"):\n",
    "        # APPEND TEST SETS FOR SINGLE USER\n",
    "        negatives = np.delete(negatives, np.where(negatives == pair[1]))\n",
    "        single_user_test_set = np.vstack([pair, ] * (len(negatives)+1))\n",
    "        single_user_test_set[:, 1][1:] = negatives\n",
    "        test_set.append(single_user_test_set.copy())\n",
    "    return test_set\n",
    "\n",
    "print(test_x[0])\n",
    "test_x = build_test_set(items2compute, test_x)\n",
    "test_x[0]"
   ]
  },
  {
   "attachments": {},
   "cell_type": "markdown",
   "metadata": {},
   "source": [
    "# Building Factorization Machines model"
   ]
  },
  {
   "cell_type": "code",
   "execution_count": 28,
   "metadata": {},
   "outputs": [],
   "source": [
    "class FM_operation(torch.nn.Module):\n",
    "\n",
    "    def __init__(self, \n",
    "                 reduce_sum: bool=True) -> None:\n",
    "        super().__init__()\n",
    "        self.reduce_sum = reduce_sum\n",
    "\n",
    "    def forward(self,\n",
    "                x: torch.Tensor) -> float:\n",
    "        \"\"\"\n",
    "        :param x: Float tensor of size ``(batch_size, num_fields, embed_dim)``\n",
    "        \"\"\"\n",
    "        # square_of_sum = np.sum(x, dim=1) ** 2 # ...\n",
    "        # sum_of_square = np.sum(x ** 2, dim=1) # ...\n",
    "        \n",
    "        square_of_sum = torch.pow(torch.sum(x, dim=1),2)\n",
    "        sum_of_square = torch.sum(torch.pow(x,2), dim=1)\n",
    "        ix = square_of_sum - sum_of_square\n",
    "        if self.reduce_sum:\n",
    "            ix = torch.sum(ix, dim=1, keepdim=True)\n",
    "        return 0.5 * ix\n",
    "        "
   ]
  },
  {
   "cell_type": "code",
   "execution_count": 29,
   "metadata": {},
   "outputs": [],
   "source": [
    "class FactorizationMachineModel(torch.nn.Module):\n",
    "    \"\"\"\n",
    "    A pytorch implementation of Factorization Machine.\n",
    "\n",
    "    Reference:\n",
    "        S Rendle, Factorization Machines, 2010.\n",
    "    \"\"\"\n",
    "\n",
    "    def __init__(self, \n",
    "                 field_dims: list,\n",
    "                 embed_dim: float) -> None:\n",
    "        super().__init__()\n",
    "        self.linear = torch.nn.Linear(len(field_dims), 1)\n",
    "        self.embedding = torch.nn.Embedding(field_dims[-1], embed_dim)\n",
    "        self.fm = FM_operation(reduce_sum=True)\n",
    "\n",
    "        torch.nn.init.xavier_uniform_(self.embedding.weight.data)\n",
    "\n",
    "    def forward(self, interaction_pairs: torch.Tensor) -> torch.Tensor:\n",
    "        \"\"\"\n",
    "        :param interaction_pairs: Long tensor of size ``(batch_size, num_fields)``\n",
    "        \"\"\"\n",
    "        out = self.linear(interaction_pairs.float()) + self.fm(self.embedding(interaction_pairs))\n",
    "        return out.squeeze(1)\n",
    "        \n",
    "    def predict(self, \n",
    "                interactions: np.ndarray,\n",
    "                device: torch.device) -> torch.Tensor:\n",
    "        # return the score, inputs are numpy arrays, outputs are tensors\n",
    "        test_interactions = torch.from_numpy(interactions).to(dtype=torch.long, device=device) #, dtype=torch.long)\n",
    "        output_scores = self.forward(test_interactions)\n",
    "        return output_scores"
   ]
  },
  {
   "attachments": {},
   "cell_type": "markdown",
   "metadata": {},
   "source": [
    "# Pipeline functions"
   ]
  },
  {
   "attachments": {},
   "cell_type": "markdown",
   "metadata": {},
   "source": [
    "## Training"
   ]
  },
  {
   "cell_type": "code",
   "execution_count": 30,
   "metadata": {},
   "outputs": [],
   "source": [
    "from statistics import mean\n",
    "\n",
    "def train_one_epoch(model: torch.nn.Module,\n",
    "                    optimizer: torch.optim,\n",
    "                    data_loader: torch.utils.data.DataLoader,\n",
    "                    criterion: torch.nn.functional,\n",
    "                    device: torch.device) -> float:\n",
    "    model.train()\n",
    "    total_loss = []\n",
    "\n",
    "    for i, (interactions, targets) in enumerate(data_loader):\n",
    "        interactions = interactions.to(device)\n",
    "        targets = targets.to(device)\n",
    "\n",
    "        predictions = model(interactions)\n",
    "    \n",
    "        loss = criterion(predictions, targets.float())\n",
    "        model.zero_grad()\n",
    "        loss.backward()\n",
    "        optimizer.step()\n",
    "        total_loss.append(loss.item())\n",
    "\n",
    "    return mean(total_loss)"
   ]
  },
  {
   "attachments": {},
   "cell_type": "markdown",
   "metadata": {},
   "source": [
    "# Define metrics"
   ]
  },
  {
   "cell_type": "code",
   "execution_count": 31,
   "metadata": {},
   "outputs": [],
   "source": [
    "import math\n",
    "\n",
    "def getHitRatio(recommend_list: list,\n",
    "                gt_item: int) -> bool:\n",
    "    if gt_item in recommend_list:\n",
    "        return 1\n",
    "    else:\n",
    "        return 0\n",
    "\n",
    "def getNDCG(recommend_list: list,\n",
    "            gt_item: int) -> float:\n",
    "    idx = np.where(recommend_list == gt_item)[0]\n",
    "    if len(idx) > 0:\n",
    "        return math.log(2)/math.log(idx+2)\n",
    "    else:\n",
    "        return 0"
   ]
  },
  {
   "attachments": {},
   "cell_type": "markdown",
   "metadata": {},
   "source": [
    "# Inference\n"
   ]
  },
  {
   "cell_type": "code",
   "execution_count": 32,
   "metadata": {},
   "outputs": [],
   "source": [
    "def test(model: torch.nn.Module,\n",
    "         test_x: np.ndarray,\n",
    "         device: torch.device,\n",
    "         topk: int=10) -> Tuple[float, float]:\n",
    "    # Test the HR and NDCG for the model @topK\n",
    "    model.eval()\n",
    "\n",
    "    HR, NDCG = [], []\n",
    "    for user_test in test_x:\n",
    "        gt_item = user_test[0][1]\n",
    "        predictions = model.predict(user_test, device)\n",
    "        _, indices = torch.topk(predictions, topk)\n",
    "        recommend_list = user_test[indices.cpu().detach().numpy()][:, 1]\n",
    "\n",
    "        HR.append(getHitRatio(recommend_list, gt_item))\n",
    "        NDCG.append(getNDCG(recommend_list, gt_item))\n",
    "    return mean(HR), mean(NDCG)"
   ]
  },
  {
   "attachments": {},
   "cell_type": "markdown",
   "metadata": {},
   "source": [
    "# PIPELINE\n",
    "## Defining the model, the loss and the optimizer\n",
    "\n"
   ]
  },
  {
   "cell_type": "code",
   "execution_count": 33,
   "metadata": {},
   "outputs": [],
   "source": [
    "dims = train_dataset.dims\n",
    "model = FactorizationMachineModel(dims, hparams['hidden_size']).to(device)\n",
    "\n",
    "criterion = torch.nn.BCEWithLogitsLoss(reduction='mean')\n",
    "optimizer = torch.optim.Adam(params=model.parameters(), lr=hparams['learning_rate'])"
   ]
  },
  {
   "attachments": {},
   "cell_type": "markdown",
   "metadata": {},
   "source": [
    "## Random evaluation"
   ]
  },
  {
   "cell_type": "code",
   "execution_count": 34,
   "metadata": {},
   "outputs": [],
   "source": [
    "import random\n",
    "class RandomModel(torch.nn.Module):\n",
    "    def __init__(self, \n",
    "                 dims: list) -> None:\n",
    "        super(RandomModel, self).__init__()\n",
    "        \"\"\"\n",
    "        Simple random based recommender system\n",
    "        \"\"\"\n",
    "        self.all_items = list(range(dims[0], dims[1]))\n",
    "\n",
    "    def forward(self) -> None:\n",
    "        pass\n",
    "\n",
    "    def predict(self,\n",
    "                interactions: np.ndarray,\n",
    "                device=None) -> torch.Tensor:\n",
    "        return torch.FloatTensor(random.sample(self.all_items, len(interactions)))\n",
    "\n",
    "rnd_model = RandomModel(dims)"
   ]
  },
  {
   "attachments": {},
   "cell_type": "markdown",
   "metadata": {},
   "source": [
    "## Final pipeline"
   ]
  },
  {
   "cell_type": "code",
   "execution_count": 35,
   "metadata": {},
   "outputs": [],
   "source": [
    "data_loader = DataLoader(train_dataset, batch_size=hparams['batch_size'], shuffle=True, num_workers=0)"
   ]
  },
  {
   "attachments": {},
   "cell_type": "markdown",
   "metadata": {},
   "source": [
    "# Start training the model"
   ]
  },
  {
   "cell_type": "code",
   "execution_count": 40,
   "metadata": {},
   "outputs": [
    {
     "name": "stdout",
     "output_type": "stream",
     "text": [
      "MODEL: FACTORIZATION MACHINE\n",
      "epoch 0:\n",
      "training loss = 624.3417 | Eval: HR@10 = 0.0583, NDCG@10 = 0.0260 \n",
      "MODEL: RANDOM\n",
      "epoch 0:\n",
      "training loss = 624.3417 | Eval: HR@10 = 0.0644, NDCG@10 = 0.0308 \n",
      "MODEL: FACTORIZATION MACHINE\n",
      "epoch 1:\n",
      "training loss = 4.4598 | Eval: HR@10 = 0.0824, NDCG@10 = 0.0504 \n",
      "MODEL: RANDOM\n",
      "epoch 1:\n",
      "training loss = 4.4598 | Eval: HR@10 = 0.0644, NDCG@10 = 0.0297 \n",
      "MODEL: FACTORIZATION MACHINE\n",
      "epoch 2:\n",
      "training loss = 0.5116 | Eval: HR@10 = 0.1816, NDCG@10 = 0.1124 \n",
      "MODEL: RANDOM\n",
      "epoch 2:\n",
      "training loss = 0.5116 | Eval: HR@10 = 0.0667, NDCG@10 = 0.0308 \n",
      "MODEL: FACTORIZATION MACHINE\n",
      "epoch 3:\n",
      "training loss = 0.4998 | Eval: HR@10 = 0.1530, NDCG@10 = 0.0925 \n",
      "MODEL: RANDOM\n",
      "epoch 3:\n",
      "training loss = 0.4998 | Eval: HR@10 = 0.0662, NDCG@10 = 0.0303 \n",
      "MODEL: FACTORIZATION MACHINE\n",
      "epoch 4:\n",
      "training loss = 0.4797 | Eval: HR@10 = 0.1726, NDCG@10 = 0.1035 \n",
      "MODEL: RANDOM\n",
      "epoch 4:\n",
      "training loss = 0.4797 | Eval: HR@10 = 0.0678, NDCG@10 = 0.0309 \n",
      "MODEL: FACTORIZATION MACHINE\n",
      "epoch 5:\n",
      "training loss = 0.4572 | Eval: HR@10 = 0.2074, NDCG@10 = 0.1216 \n",
      "MODEL: RANDOM\n",
      "epoch 5:\n",
      "training loss = 0.4572 | Eval: HR@10 = 0.0634, NDCG@10 = 0.0281 \n",
      "MODEL: FACTORIZATION MACHINE\n",
      "epoch 6:\n",
      "training loss = 0.4366 | Eval: HR@10 = 0.2057, NDCG@10 = 0.1205 \n",
      "MODEL: RANDOM\n",
      "epoch 6:\n",
      "training loss = 0.4366 | Eval: HR@10 = 0.0652, NDCG@10 = 0.0302 \n",
      "MODEL: FACTORIZATION MACHINE\n",
      "epoch 7:\n",
      "training loss = 0.4203 | Eval: HR@10 = 0.2181, NDCG@10 = 0.1272 \n",
      "MODEL: RANDOM\n",
      "epoch 7:\n",
      "training loss = 0.4203 | Eval: HR@10 = 0.0692, NDCG@10 = 0.0311 \n",
      "MODEL: FACTORIZATION MACHINE\n",
      "epoch 8:\n",
      "training loss = 0.4093 | Eval: HR@10 = 0.2320, NDCG@10 = 0.1352 \n",
      "MODEL: RANDOM\n",
      "epoch 8:\n",
      "training loss = 0.4093 | Eval: HR@10 = 0.0697, NDCG@10 = 0.0321 \n",
      "MODEL: FACTORIZATION MACHINE\n",
      "epoch 9:\n",
      "training loss = 0.3997 | Eval: HR@10 = 0.2300, NDCG@10 = 0.1343 \n",
      "MODEL: RANDOM\n",
      "epoch 9:\n",
      "training loss = 0.3997 | Eval: HR@10 = 0.0661, NDCG@10 = 0.0302 \n",
      "MODEL: FACTORIZATION MACHINE\n",
      "epoch 10:\n",
      "training loss = 0.3939 | Eval: HR@10 = 0.2365, NDCG@10 = 0.1377 \n",
      "MODEL: RANDOM\n",
      "epoch 10:\n",
      "training loss = 0.3939 | Eval: HR@10 = 0.0675, NDCG@10 = 0.0304 \n",
      "MODEL: FACTORIZATION MACHINE\n",
      "epoch 11:\n",
      "training loss = 0.3865 | Eval: HR@10 = 0.2534, NDCG@10 = 0.1471 \n",
      "MODEL: RANDOM\n",
      "epoch 11:\n",
      "training loss = 0.3865 | Eval: HR@10 = 0.0673, NDCG@10 = 0.0306 \n"
     ]
    },
    {
     "data": {
      "text/plain": [
       "'# Training duration: 1295.7728390693665'"
      ]
     },
     "execution_count": 40,
     "metadata": {},
     "output_type": "execute_result"
    }
   ],
   "source": [
    "# DO EPOCHS NOW\n",
    "from datetime import datetime\n",
    "save_data_configuration(datetime.now().strftime(\"%d-%b-%Y  %H:%M\"))\n",
    "time_start = time.time()\n",
    "topk = 10\n",
    "for epoch_i in range(hparams['num_epochs']):\n",
    "    #data_loader.dataset.negative_sampling()\n",
    "    train_loss = train_one_epoch(model, optimizer, data_loader, criterion, device)\n",
    "    hr, ndcg = test(model, test_x, device, topk=topk)\n",
    "    \n",
    "    print(save_data_configuration(f'MODEL: FACTORIZATION MACHINE'))\n",
    "    print(save_data_configuration(f'epoch {epoch_i}:'))\n",
    "    print(save_data_configuration(f'training loss = {train_loss:.4f} | Eval: HR@{topk} = {hr:.4f}, NDCG@{topk} = {ndcg:.4f} '))\n",
    " \n",
    "    tb_fm.add_scalar('train/loss', train_loss, epoch_i)\n",
    "    tb_fm.add_scalar(f'eval/HR@{topk}', hr, epoch_i)\n",
    "    tb_fm.add_scalar(f'eval/NDCG@{topk}', ndcg, epoch_i)\n",
    "\n",
    "    hr, ndcg = test(rnd_model, test_x, device, topk=topk)\n",
    "\n",
    "    print(save_data_configuration(f'MODEL: RANDOM'))\n",
    "    print(save_data_configuration(f'epoch {epoch_i}:'))\n",
    "    print(save_data_configuration(f'training loss = {train_loss:.4f} | Eval: HR@{topk} = {hr:.4f}, NDCG@{topk} = {ndcg:.4f} '))\n",
    "    save_data_configuration(\"_\"*65)\n",
    " \n",
    "\n",
    "    tb_rnd.add_scalar(f'eval/HR@{topk}', hr, epoch_i)\n",
    "    tb_rnd.add_scalar(f'eval/NDCG@{topk}', ndcg, epoch_i)\n",
    "save_data_configuration(f\"# Training duration: {(time.time()-time_start):.4f}\")"
   ]
  },
  {
   "attachments": {},
   "cell_type": "markdown",
   "metadata": {},
   "source": [
    "# Visualization"
   ]
  },
  {
   "cell_type": "code",
   "execution_count": 41,
   "metadata": {},
   "outputs": [
    {
     "name": "stderr",
     "output_type": "stream",
     "text": [
      "INFO:pytorch_profiler:Monitor runs begin\n"
     ]
    },
    {
     "data": {
      "text/plain": [
       "True"
      ]
     },
     "execution_count": 41,
     "metadata": {},
     "output_type": "execute_result"
    }
   ],
   "source": [
    "\n",
    "tb = tensorboard.program.TensorBoard()\n",
    "tb.configure(bind_all=True, logdir=f\"4_Modelling/{logs_base_dir}\")\n",
    "url = tb.launch()\n",
    "webbrowser.open_new_tab(url.replace(\"MSI\",\"localhost\"))"
   ]
  },
  {
   "cell_type": "code",
   "execution_count": 42,
   "metadata": {},
   "outputs": [
    {
     "data": {
      "text/plain": [
       "Reusing TensorBoard on port 6006 (pid 19904), started 3:14:04 ago. (Use '!kill 19904' to kill it.)"
      ]
     },
     "metadata": {},
     "output_type": "display_data"
    },
    {
     "data": {
      "text/html": [
       "\n",
       "      <iframe id=\"tensorboard-frame-c5e8aa8610409ce6\" width=\"100%\" height=\"800\" frameborder=\"0\">\n",
       "      </iframe>\n",
       "      <script>\n",
       "        (function() {\n",
       "          const frame = document.getElementById(\"tensorboard-frame-c5e8aa8610409ce6\");\n",
       "          const url = new URL(\"http://localhost\");\n",
       "          const port = 6006;\n",
       "          if (port) {\n",
       "            url.port = port;\n",
       "          }\n",
       "          frame.src = url;\n",
       "        })();\n",
       "      </script>\n",
       "    "
      ],
      "text/plain": [
       "<IPython.core.display.HTML object>"
      ]
     },
     "metadata": {},
     "output_type": "display_data"
    }
   ],
   "source": [
    "%tensorboard --logdir {logs_base_dir}"
   ]
  }
 ],
 "metadata": {
  "kernelspec": {
   "display_name": "Python 3",
   "language": "python",
   "name": "python3"
  },
  "language_info": {
   "codemirror_mode": {
    "name": "ipython",
    "version": 3
   },
   "file_extension": ".py",
   "mimetype": "text/x-python",
   "name": "python",
   "nbconvert_exporter": "python",
   "pygments_lexer": "ipython3",
   "version": "3.7.9"
  },
  "orig_nbformat": 4,
  "vscode": {
   "interpreter": {
    "hash": "977d1ca4f86cf6796d22eaa6050e2f72f1e03740aa8986f601710bf090b5ff9a"
   }
  }
 },
 "nbformat": 4,
 "nbformat_minor": 2
}
